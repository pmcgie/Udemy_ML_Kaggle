{
  "nbformat": 4,
  "nbformat_minor": 0,
  "metadata": {
    "colab": {
      "name": "Udemy.ipynb",
      "provenance": [],
      "collapsed_sections": []
    },
    "kernelspec": {
      "display_name": "Python 3",
      "name": "python3"
    }
  },
  "cells": [
    {
      "cell_type": "markdown",
      "metadata": {
        "id": "SJklFWnHFxK3"
      },
      "source": [
        "### Functions"
      ]
    },
    {
      "cell_type": "code",
      "metadata": {
        "id": "hH909IC25mng"
      },
      "source": [
        "# Function to find best n_estimators\n",
        "def find_n_estimators(X_train,X_test,y_train,y_test):\n",
        "\n",
        "  best_accuracy = -1\n",
        "  model_acc_dt = 0\n",
        "  estimators_num = 0\n",
        "\n",
        "  for x in range(1,51):\n",
        "    regObj = RandomForestRegressor(n_estimators=x) #n_estimators is number of trees you want in the model\n",
        "    regObj.fit(X_train,y_train)\n",
        "    predictions = regObj.predict(X_test)\n",
        "    model_acc_dt = r2_score(y_test,predictions)\n",
        "\n",
        "    if model_acc_dt > best_accuracy:\n",
        "      best_accuracy = model_acc_dt\n",
        "      estimators_num = x\n",
        "    \n",
        "  return estimators_num"
      ],
      "execution_count": null,
      "outputs": []
    },
    {
      "cell_type": "markdown",
      "metadata": {
        "id": "ewxhhcd748hq"
      },
      "source": [
        "### Data Preparation"
      ]
    },
    {
      "cell_type": "code",
      "metadata": {
        "id": "uFTJ9LKc3ht8",
        "colab": {
          "resources": {
            "http://localhost:8080/nbextensions/google.colab/files.js": {
              "data": "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",
              "ok": true,
              "headers": [
                [
                  "content-type",
                  "application/javascript"
                ]
              ],
              "status": 200,
              "status_text": ""
            }
          },
          "base_uri": "https://localhost:8080/",
          "height": 555
        },
        "outputId": "939575e2-8321-40ec-e9e8-1e69195b659c"
      },
      "source": [
        "#Loading the dataset: YOU WILL NEED TO IMPORT FILE BY CLICKING \"Choose Files\"\n",
        "\n",
        "# We will now be importing some required libraries\n",
        "from google.colab import files\n",
        "uploaded = files.upload()\n",
        "\n",
        "import numpy as np\n",
        "import matplotlib.pyplot as plt\n",
        "import pandas as pd\n",
        "import io\n",
        "\n",
        "# Show initial dataset\n",
        "dataset = pd.read_csv(io.StringIO(uploaded['Udemy.csv'].decode('utf-8')))\n",
        "dataset.head()\n",
        "\n"
      ],
      "execution_count": null,
      "outputs": [
        {
          "output_type": "display_data",
          "data": {
            "text/html": [
              "\n",
              "     <input type=\"file\" id=\"files-fa977218-abce-4d4f-b55a-d4aa142c142c\" name=\"files[]\" multiple disabled\n",
              "        style=\"border:none\" />\n",
              "     <output id=\"result-fa977218-abce-4d4f-b55a-d4aa142c142c\">\n",
              "      Upload widget is only available when the cell has been executed in the\n",
              "      current browser session. Please rerun this cell to enable.\n",
              "      </output>\n",
              "      <script src=\"/nbextensions/google.colab/files.js\"></script> "
            ],
            "text/plain": [
              "<IPython.core.display.HTML object>"
            ]
          },
          "metadata": {
            "tags": []
          }
        },
        {
          "output_type": "stream",
          "text": [
            "Saving Udemy.csv to Udemy.csv\n"
          ],
          "name": "stdout"
        },
        {
          "output_type": "execute_result",
          "data": {
            "text/html": [
              "<div>\n",
              "<style scoped>\n",
              "    .dataframe tbody tr th:only-of-type {\n",
              "        vertical-align: middle;\n",
              "    }\n",
              "\n",
              "    .dataframe tbody tr th {\n",
              "        vertical-align: top;\n",
              "    }\n",
              "\n",
              "    .dataframe thead th {\n",
              "        text-align: right;\n",
              "    }\n",
              "</style>\n",
              "<table border=\"1\" class=\"dataframe\">\n",
              "  <thead>\n",
              "    <tr style=\"text-align: right;\">\n",
              "      <th></th>\n",
              "      <th>course_id</th>\n",
              "      <th>course_title</th>\n",
              "      <th>url</th>\n",
              "      <th>is_paid</th>\n",
              "      <th>price</th>\n",
              "      <th>num_subscribers</th>\n",
              "      <th>num_reviews</th>\n",
              "      <th>num_lectures</th>\n",
              "      <th>level</th>\n",
              "      <th>content_duration</th>\n",
              "      <th>published_timestamp</th>\n",
              "      <th>subject</th>\n",
              "    </tr>\n",
              "  </thead>\n",
              "  <tbody>\n",
              "    <tr>\n",
              "      <th>0</th>\n",
              "      <td>1070968</td>\n",
              "      <td>Ultimate Investment Banking Course</td>\n",
              "      <td>https://www.udemy.com/ultimate-investment-bank...</td>\n",
              "      <td>True</td>\n",
              "      <td>200</td>\n",
              "      <td>2147</td>\n",
              "      <td>23</td>\n",
              "      <td>51</td>\n",
              "      <td>All Levels</td>\n",
              "      <td>1.5</td>\n",
              "      <td>2017-01-18T20:58:58Z</td>\n",
              "      <td>Business Finance</td>\n",
              "    </tr>\n",
              "    <tr>\n",
              "      <th>1</th>\n",
              "      <td>1113822</td>\n",
              "      <td>Complete GST Course &amp; Certification - Grow You...</td>\n",
              "      <td>https://www.udemy.com/goods-and-services-tax/</td>\n",
              "      <td>True</td>\n",
              "      <td>75</td>\n",
              "      <td>2792</td>\n",
              "      <td>923</td>\n",
              "      <td>274</td>\n",
              "      <td>All Levels</td>\n",
              "      <td>39.0</td>\n",
              "      <td>2017-03-09T16:34:20Z</td>\n",
              "      <td>Business Finance</td>\n",
              "    </tr>\n",
              "    <tr>\n",
              "      <th>2</th>\n",
              "      <td>1006314</td>\n",
              "      <td>Financial Modeling for Business Analysts and C...</td>\n",
              "      <td>https://www.udemy.com/financial-modeling-for-b...</td>\n",
              "      <td>True</td>\n",
              "      <td>45</td>\n",
              "      <td>2174</td>\n",
              "      <td>74</td>\n",
              "      <td>51</td>\n",
              "      <td>Intermediate Level</td>\n",
              "      <td>2.5</td>\n",
              "      <td>2016-12-19T19:26:30Z</td>\n",
              "      <td>Business Finance</td>\n",
              "    </tr>\n",
              "    <tr>\n",
              "      <th>3</th>\n",
              "      <td>1210588</td>\n",
              "      <td>Beginner to Pro - Financial Analysis in Excel ...</td>\n",
              "      <td>https://www.udemy.com/complete-excel-finance-c...</td>\n",
              "      <td>True</td>\n",
              "      <td>95</td>\n",
              "      <td>2451</td>\n",
              "      <td>11</td>\n",
              "      <td>36</td>\n",
              "      <td>All Levels</td>\n",
              "      <td>3.0</td>\n",
              "      <td>2017-05-30T20:07:24Z</td>\n",
              "      <td>Business Finance</td>\n",
              "    </tr>\n",
              "    <tr>\n",
              "      <th>4</th>\n",
              "      <td>1011058</td>\n",
              "      <td>How To Maximize Your Profits Trading Options</td>\n",
              "      <td>https://www.udemy.com/how-to-maximize-your-pro...</td>\n",
              "      <td>True</td>\n",
              "      <td>200</td>\n",
              "      <td>1276</td>\n",
              "      <td>45</td>\n",
              "      <td>26</td>\n",
              "      <td>Intermediate Level</td>\n",
              "      <td>2.0</td>\n",
              "      <td>2016-12-13T14:57:18Z</td>\n",
              "      <td>Business Finance</td>\n",
              "    </tr>\n",
              "  </tbody>\n",
              "</table>\n",
              "</div>"
            ],
            "text/plain": [
              "   course_id  ...           subject\n",
              "0    1070968  ...  Business Finance\n",
              "1    1113822  ...  Business Finance\n",
              "2    1006314  ...  Business Finance\n",
              "3    1210588  ...  Business Finance\n",
              "4    1011058  ...  Business Finance\n",
              "\n",
              "[5 rows x 12 columns]"
            ]
          },
          "metadata": {
            "tags": []
          },
          "execution_count": 2
        }
      ]
    },
    {
      "cell_type": "code",
      "metadata": {
        "colab": {
          "base_uri": "https://localhost:8080/",
          "height": 282
        },
        "id": "Ky7PdU5AZbZd",
        "outputId": "8c211504-e1ea-4fd6-e4d8-307b91ae811e"
      },
      "source": [
        "#TODO: Drop Outliers and show BoxPlot\n",
        "dataset.hist(\"num_subscribers\",bins=50)\n",
        "boxplot = dataset.boxplot(column=['num_subscribers'])\n",
        "dataset.num_subscribers.quantile([0.25,0.5,0.75])\n",
        "outlier = 2546 + (1.5 * 2546)\n",
        "dataset_clean = dataset[dataset.num_subscribers <= outlier]"
      ],
      "execution_count": null,
      "outputs": [
        {
          "output_type": "display_data",
          "data": {
            "image/png": "[encoded data removed]",
            "text/plain": [
              "<Figure size 432x288 with 1 Axes>"
            ]
          },
          "metadata": {
            "tags": [],
            "needs_background": "light"
          }
        }
      ]
    },
    {
      "cell_type": "code",
      "metadata": {
        "colab": {
          "base_uri": "https://localhost:8080/",
          "height": 266
        },
        "id": "cZhJd6gr-GVt",
        "outputId": "1f8e0243-2142-4742-cd3e-da875db22bca"
      },
      "source": [
        "#Show new Box Plot\n",
        "boxplot2 = dataset_clean.boxplot(column=['num_subscribers'])"
      ],
      "execution_count": null,
      "outputs": [
        {
          "output_type": "display_data",
          "data": {
            "image/png": "[encoded data removed]",
            "text/plain": [
              "<Figure size 432x288 with 1 Axes>"
            ]
          },
          "metadata": {
            "tags": [],
            "needs_background": "light"
          }
        }
      ]
    },
    {
      "cell_type": "code",
      "metadata": {
        "colab": {
          "base_uri": "https://localhost:8080/",
          "height": 393
        },
        "id": "syphqM_Bp4iQ",
        "outputId": "cf9cb1c3-5ec9-4395-eb68-31d7fa26467f"
      },
      "source": [
        "#Drop course_title and url\n",
        "dataset2 = dataset_clean.drop(columns=['url']) #'course_title'\n",
        "\n",
        "#Extract date from timestamp\n",
        "import datetime as dt\n",
        "dataset2['published_timestamp'] = dataset2['published_timestamp'].apply(lambda x : pd.to_datetime(str(x)))\n",
        "#dataset2['date'] = dataset2['published_timestamp'].dt.date\n",
        "#dataset2['year'] = dataset2['published_timestamp'].dt.year\n",
        "dataset2['month'] = dataset2['published_timestamp'].dt.month\n",
        "dataset2 ['hour'] = dataset2['published_timestamp'].dt.hour\n",
        "\n",
        "#Create season column\n",
        "\n",
        "def func(x):\n",
        "    if x in (12,1,2):\n",
        "        return \"Winter\"\n",
        "    elif x in (3,4,5):\n",
        "        return \"Spring\"\n",
        "    elif x in (6,7,8):\n",
        "        return \"Summer\"\n",
        "    else:\n",
        "        return \"Fall\"\n",
        "\n",
        "dataset2['season'] = dataset2['month'].apply(func)\n",
        "dataset2['time_of_day'] = dataset2.hour.apply(lambda x: \"Morning\" if x < 12 else \"Afternoon\")\n",
        "\n",
        "\n",
        "# display updated DataFrame\n",
        "dataset2.head()\n",
        "\n",
        "dataset3 = dataset2.drop(columns=['month', 'hour', 'published_timestamp'])                      \n",
        "dataset3.head()\n",
        "\n",
        "#Re-order columns\n",
        "dataset3 = dataset3[['course_id','course_title', 'is_paid', 'price', 'num_reviews','num_lectures', 'level', 'content_duration', 'subject', 'season', 'time_of_day', 'num_subscribers']]\n",
        "dataset3.head()"
      ],
      "execution_count": null,
      "outputs": [
        {
          "output_type": "execute_result",
          "data": {
            "text/html": [
              "<div>\n",
              "<style scoped>\n",
              "    .dataframe tbody tr th:only-of-type {\n",
              "        vertical-align: middle;\n",
              "    }\n",
              "\n",
              "    .dataframe tbody tr th {\n",
              "        vertical-align: top;\n",
              "    }\n",
              "\n",
              "    .dataframe thead th {\n",
              "        text-align: right;\n",
              "    }\n",
              "</style>\n",
              "<table border=\"1\" class=\"dataframe\">\n",
              "  <thead>\n",
              "    <tr style=\"text-align: right;\">\n",
              "      <th></th>\n",
              "      <th>course_id</th>\n",
              "      <th>course_title</th>\n",
              "      <th>is_paid</th>\n",
              "      <th>price</th>\n",
              "      <th>num_reviews</th>\n",
              "      <th>num_lectures</th>\n",
              "      <th>level</th>\n",
              "      <th>content_duration</th>\n",
              "      <th>subject</th>\n",
              "      <th>season</th>\n",
              "      <th>time_of_day</th>\n",
              "      <th>num_subscribers</th>\n",
              "    </tr>\n",
              "  </thead>\n",
              "  <tbody>\n",
              "    <tr>\n",
              "      <th>0</th>\n",
              "      <td>1070968</td>\n",
              "      <td>Ultimate Investment Banking Course</td>\n",
              "      <td>True</td>\n",
              "      <td>200</td>\n",
              "      <td>23</td>\n",
              "      <td>51</td>\n",
              "      <td>All Levels</td>\n",
              "      <td>1.5</td>\n",
              "      <td>Business Finance</td>\n",
              "      <td>Winter</td>\n",
              "      <td>Afternoon</td>\n",
              "      <td>2147</td>\n",
              "    </tr>\n",
              "    <tr>\n",
              "      <th>1</th>\n",
              "      <td>1113822</td>\n",
              "      <td>Complete GST Course &amp; Certification - Grow You...</td>\n",
              "      <td>True</td>\n",
              "      <td>75</td>\n",
              "      <td>923</td>\n",
              "      <td>274</td>\n",
              "      <td>All Levels</td>\n",
              "      <td>39.0</td>\n",
              "      <td>Business Finance</td>\n",
              "      <td>Spring</td>\n",
              "      <td>Afternoon</td>\n",
              "      <td>2792</td>\n",
              "    </tr>\n",
              "    <tr>\n",
              "      <th>2</th>\n",
              "      <td>1006314</td>\n",
              "      <td>Financial Modeling for Business Analysts and C...</td>\n",
              "      <td>True</td>\n",
              "      <td>45</td>\n",
              "      <td>74</td>\n",
              "      <td>51</td>\n",
              "      <td>Intermediate Level</td>\n",
              "      <td>2.5</td>\n",
              "      <td>Business Finance</td>\n",
              "      <td>Winter</td>\n",
              "      <td>Afternoon</td>\n",
              "      <td>2174</td>\n",
              "    </tr>\n",
              "    <tr>\n",
              "      <th>3</th>\n",
              "      <td>1210588</td>\n",
              "      <td>Beginner to Pro - Financial Analysis in Excel ...</td>\n",
              "      <td>True</td>\n",
              "      <td>95</td>\n",
              "      <td>11</td>\n",
              "      <td>36</td>\n",
              "      <td>All Levels</td>\n",
              "      <td>3.0</td>\n",
              "      <td>Business Finance</td>\n",
              "      <td>Spring</td>\n",
              "      <td>Afternoon</td>\n",
              "      <td>2451</td>\n",
              "    </tr>\n",
              "    <tr>\n",
              "      <th>4</th>\n",
              "      <td>1011058</td>\n",
              "      <td>How To Maximize Your Profits Trading Options</td>\n",
              "      <td>True</td>\n",
              "      <td>200</td>\n",
              "      <td>45</td>\n",
              "      <td>26</td>\n",
              "      <td>Intermediate Level</td>\n",
              "      <td>2.0</td>\n",
              "      <td>Business Finance</td>\n",
              "      <td>Winter</td>\n",
              "      <td>Afternoon</td>\n",
              "      <td>1276</td>\n",
              "    </tr>\n",
              "  </tbody>\n",
              "</table>\n",
              "</div>"
            ],
            "text/plain": [
              "   course_id  ... num_subscribers\n",
              "0    1070968  ...            2147\n",
              "1    1113822  ...            2792\n",
              "2    1006314  ...            2174\n",
              "3    1210588  ...            2451\n",
              "4    1011058  ...            1276\n",
              "\n",
              "[5 rows x 12 columns]"
            ]
          },
          "metadata": {
            "tags": []
          },
          "execution_count": 5
        }
      ]
    },
    {
      "cell_type": "code",
      "metadata": {
        "colab": {
          "base_uri": "https://localhost:8080/",
          "height": 257
        },
        "id": "B7j5cJhujpw4",
        "outputId": "2ca7cd5e-8f6b-47fd-de16-15e101b20ab9"
      },
      "source": [
        "# Use pandas to create dummy variables\n",
        "dataset4 = pd.get_dummies(data=dataset3, columns=['is_paid', 'level','subject','season','time_of_day'],drop_first=True)\n",
        "\n",
        "# Create Calculated Column Avg Lecture Duration\n",
        "dataset4['avg_content_duration_per_lecture'] = round(dataset4.num_lectures/dataset4.content_duration,2)\n",
        "dataset4['avg_content_duration_per_lecture'] = dataset4['avg_content_duration_per_lecture'].fillna(0)\n",
        "\n",
        "# Sentiment in naming of Course\n",
        "from textblob import TextBlob\n",
        "\n",
        "#load the descriptions into textblob\n",
        "desc_blob = [TextBlob(desc) for desc in dataset4['course_title']]\n",
        "#add the sentiment metrics to the dataframe\n",
        "dataset4['polarity'] = [b.sentiment.polarity for b in desc_blob]\n",
        "dataset4['subjectivity'] = [b.sentiment.subjectivity for b in desc_blob]\n",
        "\n",
        "# reorder and eliminate num_reviews, course_title and course_id (not insightful indicators for subscribers)\n",
        "dataset4 = dataset4[['price', 'num_lectures', 'content_duration','avg_content_duration_per_lecture',\n",
        "                     'is_paid_True','level_Beginner Level','level_Intermediate Level','level_Expert Level',\n",
        "                     'subject_Graphic Design','subject_Musical Instruments','subject_Web Development','season_Spring',\n",
        "                     'season_Summer','season_Winter','time_of_day_Morning','polarity','subjectivity','num_subscribers']]\n",
        "\n",
        "print(dataset4.shape)\n",
        "dataset4.head()\n"
      ],
      "execution_count": null,
      "outputs": [
        {
          "output_type": "stream",
          "text": [
            "(3251, 18)\n"
          ],
          "name": "stdout"
        },
        {
          "output_type": "execute_result",
          "data": {
            "text/html": [
              "<div>\n",
              "<style scoped>\n",
              "    .dataframe tbody tr th:only-of-type {\n",
              "        vertical-align: middle;\n",
              "    }\n",
              "\n",
              "    .dataframe tbody tr th {\n",
              "        vertical-align: top;\n",
              "    }\n",
              "\n",
              "    .dataframe thead th {\n",
              "        text-align: right;\n",
              "    }\n",
              "</style>\n",
              "<table border=\"1\" class=\"dataframe\">\n",
              "  <thead>\n",
              "    <tr style=\"text-align: right;\">\n",
              "      <th></th>\n",
              "      <th>price</th>\n",
              "      <th>num_lectures</th>\n",
              "      <th>content_duration</th>\n",
              "      <th>avg_content_duration_per_lecture</th>\n",
              "      <th>is_paid_True</th>\n",
              "      <th>level_Beginner Level</th>\n",
              "      <th>level_Intermediate Level</th>\n",
              "      <th>level_Expert Level</th>\n",
              "      <th>subject_Graphic Design</th>\n",
              "      <th>subject_Musical Instruments</th>\n",
              "      <th>subject_Web Development</th>\n",
              "      <th>season_Spring</th>\n",
              "      <th>season_Summer</th>\n",
              "      <th>season_Winter</th>\n",
              "      <th>time_of_day_Morning</th>\n",
              "      <th>polarity</th>\n",
              "      <th>subjectivity</th>\n",
              "      <th>num_subscribers</th>\n",
              "    </tr>\n",
              "  </thead>\n",
              "  <tbody>\n",
              "    <tr>\n",
              "      <th>0</th>\n",
              "      <td>200</td>\n",
              "      <td>51</td>\n",
              "      <td>1.5</td>\n",
              "      <td>34.00</td>\n",
              "      <td>1</td>\n",
              "      <td>0</td>\n",
              "      <td>0</td>\n",
              "      <td>0</td>\n",
              "      <td>0</td>\n",
              "      <td>0</td>\n",
              "      <td>0</td>\n",
              "      <td>0</td>\n",
              "      <td>0</td>\n",
              "      <td>1</td>\n",
              "      <td>0</td>\n",
              "      <td>0.0</td>\n",
              "      <td>1.0</td>\n",
              "      <td>2147</td>\n",
              "    </tr>\n",
              "    <tr>\n",
              "      <th>1</th>\n",
              "      <td>75</td>\n",
              "      <td>274</td>\n",
              "      <td>39.0</td>\n",
              "      <td>7.03</td>\n",
              "      <td>1</td>\n",
              "      <td>0</td>\n",
              "      <td>0</td>\n",
              "      <td>0</td>\n",
              "      <td>0</td>\n",
              "      <td>0</td>\n",
              "      <td>0</td>\n",
              "      <td>1</td>\n",
              "      <td>0</td>\n",
              "      <td>0</td>\n",
              "      <td>0</td>\n",
              "      <td>0.1</td>\n",
              "      <td>0.4</td>\n",
              "      <td>2792</td>\n",
              "    </tr>\n",
              "    <tr>\n",
              "      <th>2</th>\n",
              "      <td>45</td>\n",
              "      <td>51</td>\n",
              "      <td>2.5</td>\n",
              "      <td>20.40</td>\n",
              "      <td>1</td>\n",
              "      <td>0</td>\n",
              "      <td>1</td>\n",
              "      <td>0</td>\n",
              "      <td>0</td>\n",
              "      <td>0</td>\n",
              "      <td>0</td>\n",
              "      <td>0</td>\n",
              "      <td>0</td>\n",
              "      <td>1</td>\n",
              "      <td>0</td>\n",
              "      <td>0.0</td>\n",
              "      <td>0.0</td>\n",
              "      <td>2174</td>\n",
              "    </tr>\n",
              "    <tr>\n",
              "      <th>3</th>\n",
              "      <td>95</td>\n",
              "      <td>36</td>\n",
              "      <td>3.0</td>\n",
              "      <td>12.00</td>\n",
              "      <td>1</td>\n",
              "      <td>0</td>\n",
              "      <td>0</td>\n",
              "      <td>0</td>\n",
              "      <td>0</td>\n",
              "      <td>0</td>\n",
              "      <td>0</td>\n",
              "      <td>1</td>\n",
              "      <td>0</td>\n",
              "      <td>0</td>\n",
              "      <td>0</td>\n",
              "      <td>0.0</td>\n",
              "      <td>0.0</td>\n",
              "      <td>2451</td>\n",
              "    </tr>\n",
              "    <tr>\n",
              "      <th>4</th>\n",
              "      <td>200</td>\n",
              "      <td>26</td>\n",
              "      <td>2.0</td>\n",
              "      <td>13.00</td>\n",
              "      <td>1</td>\n",
              "      <td>0</td>\n",
              "      <td>1</td>\n",
              "      <td>0</td>\n",
              "      <td>0</td>\n",
              "      <td>0</td>\n",
              "      <td>0</td>\n",
              "      <td>0</td>\n",
              "      <td>0</td>\n",
              "      <td>1</td>\n",
              "      <td>0</td>\n",
              "      <td>0.0</td>\n",
              "      <td>0.0</td>\n",
              "      <td>1276</td>\n",
              "    </tr>\n",
              "  </tbody>\n",
              "</table>\n",
              "</div>"
            ],
            "text/plain": [
              "   price  num_lectures  ...  subjectivity  num_subscribers\n",
              "0    200            51  ...           1.0             2147\n",
              "1     75           274  ...           0.4             2792\n",
              "2     45            51  ...           0.0             2174\n",
              "3     95            36  ...           0.0             2451\n",
              "4    200            26  ...           0.0             1276\n",
              "\n",
              "[5 rows x 18 columns]"
            ]
          },
          "metadata": {
            "tags": []
          },
          "execution_count": 6
        }
      ]
    },
    {
      "cell_type": "code",
      "metadata": {
        "id": "ZPZxWRvl2KnV"
      },
      "source": [
        "# Assign X and y values\n",
        "X = dataset4.iloc[:,0:17].values\n",
        "y = dataset4.iloc[:,17].values\n",
        "\n",
        "#Splitting the data into Training Set and Test Set\n",
        "from sklearn.model_selection import train_test_split\n",
        "X_train, X_test, y_train, y_test = train_test_split(X,y,test_size=0.3,random_state=0)\n",
        "\n",
        "#Normalizing the features\n",
        "from sklearn.preprocessing import StandardScaler\n",
        "sc_X = StandardScaler()\n",
        "X_train = sc_X.fit_transform(X_train)\n",
        "X_test = sc_X.transform(X_test)"
      ],
      "execution_count": null,
      "outputs": []
    },
    {
      "cell_type": "markdown",
      "metadata": {
        "id": "R8XpWCrs5OcT"
      },
      "source": [
        "### Run Analysis on Original \"Cleaned\" dataset"
      ]
    },
    {
      "cell_type": "code",
      "metadata": {
        "colab": {
          "base_uri": "https://localhost:8080/"
        },
        "id": "vQZU2VcEcYhc",
        "outputId": "dba2f7c8-ecee-47a0-a9eb-4f4564fa9a34"
      },
      "source": [
        "#Polynomial Regression\n",
        "from sklearn.metrics import mean_squared_error\n",
        "#Fitting Linear Regression\n",
        "from sklearn.linear_model import LinearRegression\n",
        "lrObj = LinearRegression()\n",
        "lrObj.fit(X_train, y_train)\n",
        "#Polynomial Regression\n",
        "from sklearn.preprocessing import PolynomialFeatures\n",
        "df = pd.DataFrame(columns=['k','MSE'])\n",
        "columns = list(df)\n",
        "data = []\n",
        "k = 2\n",
        "while k < 6:\n",
        "    polyFeatureObj = PolynomialFeatures(degree=k)\n",
        "    X_poly = polyFeatureObj.fit_transform(X_train)\n",
        "    prObj = LinearRegression()\n",
        "    prObj.fit(X_poly, y_train)\n",
        "    y_pred = prObj.predict(polyFeatureObj.fit_transform(X_test))\n",
        "    MSE = mean_squared_error(y_test, y_pred)\n",
        "    values = [k,MSE]\n",
        "    zipped = zip(columns, values)\n",
        "    a_dictionary = dict(zipped)\n",
        "    data.append(a_dictionary)\n",
        "    k = k + 1\n",
        "df = df.append(data, True)\n",
        "pd.options.display.float_format = '{:.5f}'.format\n",
        "print(df)\n"
      ],
      "execution_count": null,
      "outputs": [
        {
          "output_type": "stream",
          "text": [
            "   k                               MSE\n",
            "0  2                     1653772.57447\n",
            "1  3 628386933762533399914872832.00000\n",
            "2  4        13067949219769618432.00000\n",
            "3  5         2724080528779417600.00000\n"
          ],
          "name": "stdout"
        }
      ]
    },
    {
      "cell_type": "code",
      "metadata": {
        "colab": {
          "base_uri": "https://localhost:8080/",
          "height": 440
        },
        "id": "wftDRAdX_x8U",
        "outputId": "c82b9f47-eb06-4cf0-af1f-9a1ed84a69f2"
      },
      "source": [
        "#Regularization with Ridge\n",
        "from sklearn.linear_model import LinearRegression\n",
        "from sklearn.linear_model import Ridge\n",
        "lrR = LinearRegression()\n",
        "\n",
        "lrR.fit(X_train, y_train)\n",
        "rr = Ridge(alpha=0.01) \n",
        "# higher the alpha value, more restriction on the coefficients; low alpha > more generalization,\n",
        "# in this case linear and ridge regression resembles\n",
        "rr.fit(X_train, y_train)\n",
        "\n",
        "rr100 = Ridge(alpha=100) #  comparison with alpha value\n",
        "rr100.fit(X_train, y_train)\n",
        "\n",
        "train_score=lrR.score(X_train, y_train)\n",
        "test_score=lrR.score(X_test, y_test)\n",
        "\n",
        "Ridge_train_score = rr.score(X_train,y_train)\n",
        "Ridge_test_score = rr.score(X_test, y_test)\n",
        "\n",
        "Ridge_train_score100 = rr100.score(X_train,y_train)\n",
        "Ridge_test_score100 = rr100.score(X_test, y_test)\n",
        "\n",
        "print(\"training score for alpha=.01:\", Ridge_train_score)\n",
        "print(\"test score for alpha =.01: \", Ridge_test_score)\n",
        "\n",
        "print(\"\\n training score for alpha=100:\", Ridge_train_score100)\n",
        "print(\"test score for alpha =100: \", Ridge_test_score100)\n",
        "\n",
        "\n",
        "y_pred_RR = rr.predict(X_test) \n",
        "mean_squared_error_RR = np.mean((y_pred_RR- y_test)**2)\n",
        "print(\"\\n Mean Squared Error on test set Ridge alpha .01 is:\", mean_squared_error_RR) \n",
        "\n",
        "y_pred_RR100 = rr100.predict(X_test) \n",
        "mean_squared_error_RR100 = np.mean((y_pred_RR100- y_test)**2)\n",
        "print(\"\\n Mean Squared Error on test set Ridge alpha 100 is:\", mean_squared_error_RR100) \n",
        "\n",
        "\n",
        "plt.plot(rr.coef_,alpha=0.7,linestyle='none',marker='*',markersize=5,color='red',label=r'Ridge; $\\alpha = 0.01$',zorder=7) \n",
        "plt.plot(rr100.coef_,alpha=0.5,linestyle='none',marker='d',markersize=6,color='blue',label=r'Ridge; $\\alpha = 100$') \n",
        "plt.plot(lrR.coef_,alpha=0.4,linestyle='none',marker='o',markersize=7,color='green',label='Linear Regression')\n",
        "plt.xlabel('Coefficient Index',fontsize=16)\n",
        "plt.ylabel('Coefficient Magnitude',fontsize=16)\n",
        "plt.legend(fontsize=13,loc=4)\n",
        "plt.show()"
      ],
      "execution_count": null,
      "outputs": [
        {
          "output_type": "stream",
          "text": [
            "training score for alpha=.01: 0.27515399321053746\n",
            "test score for alpha =.01:  0.245075208931949\n",
            "\n",
            " training score for alpha=100: 0.27464036762022404\n",
            "test score for alpha =100:  0.2456433666807707\n",
            "\n",
            " Mean Squared Error on test set Ridge alpha .01 is: 1546940.451917361\n",
            "\n",
            " Mean Squared Error on test set Ridge alpha 100 is: 1545776.2217647398\n"
          ],
          "name": "stdout"
        },
        {
          "output_type": "display_data",
          "data": {
            "image/png": "[encoded data removed]",
            "text/plain": [
              "<Figure size 432x288 with 1 Axes>"
            ]
          },
          "metadata": {
            "tags": [],
            "needs_background": "light"
          }
        }
      ]
    },
    {
      "cell_type": "code",
      "metadata": {
        "colab": {
          "base_uri": "https://localhost:8080/",
          "height": 644
        },
        "id": "_xJfNkzJccI1",
        "outputId": "508fe6a4-3df4-4c7f-c185-fcfc7ffd76fe"
      },
      "source": [
        "#regularization with Lasso\n",
        "import math \n",
        "import matplotlib.pyplot as plt \n",
        "import pandas as pd\n",
        "import numpy as np\n",
        "# difference of lasso and ridge regression is that some of the coefficients can be zero i.e. some of the features are \n",
        "# completely neglected\n",
        "from sklearn.linear_model import Lasso\n",
        "from sklearn.linear_model import LinearRegression\n",
        "\n",
        "lasso = Lasso()\n",
        "lasso.fit(X_train,y_train)\n",
        "lasso_train_score=lasso.score(X_train,y_train)\n",
        "lasso_test_score=lasso.score(X_test,y_test)\n",
        "coeff_used = np.sum(lasso.coef_!=0)\n",
        "print( \"training score:\", lasso_train_score )\n",
        "print( \"test score: \", lasso_test_score)\n",
        "print(\"number of features used: \", coeff_used)\n",
        "\n",
        "lasso001 = Lasso(alpha=0.01, max_iter=10e5)\n",
        "lasso001.fit(X_train,y_train)\n",
        "lasso_train_score001=lasso001.score(X_train,y_train)\n",
        "lasso_test_score001=lasso001.score(X_test,y_test)\n",
        "coeff_used001 = np.sum(lasso001.coef_!=0)\n",
        "\n",
        "print( \"\\n Lasso training score for alpha=0.01:\", lasso_train_score001 )\n",
        "print( \"Lasso test score for alpha =0.01: \", lasso_test_score001)\n",
        "print( \"Lasso number of features used: for alpha =0.01:\", coeff_used001)\n",
        "\n",
        "lasso00001 = Lasso(alpha=0.0001, max_iter=10e5)\n",
        "lasso00001.fit(X_train,y_train)\n",
        "lasso_train_score00001=lasso00001.score(X_train,y_train)\n",
        "lasso_test_score00001=lasso00001.score(X_test,y_test)\n",
        "coeff_used00001 = np.sum(lasso00001.coef_!=0)\n",
        "print( \"\\n training score for alpha=0.0001:\", lasso_train_score00001 )\n",
        "print (\"test score for alpha =0.0001: \", lasso_test_score00001)\n",
        "print( \"number of features used: for alpha =0.0001:\", coeff_used00001)\n",
        "\n",
        "lrlas = LinearRegression()\n",
        "lrlas.fit(X_train,y_train)\n",
        "lr_train_score=lrlas.score(X_train,y_train)\n",
        "lr_test_score=lrlas.score(X_test,y_test)\n",
        "print( \"\\n LR training score:\", lr_train_score )\n",
        "print( \"LR test score: \", lr_test_score)\n",
        "\n",
        "y_pred_LR2 = lasso.predict(X_test) \n",
        "mean_squared_error_LR2 = np.mean((y_pred_LR2- y_test)**2)\n",
        "print(\"\\n Mean Squared Error on test set Lasso\", mean_squared_error_LR2) \n",
        "\n",
        "\n",
        "y_pred_LR1 = lasso00001.predict(X_test) \n",
        "mean_squared_error_LR1 = np.mean((y_pred_LR1- y_test)**2) \n",
        "print(\"\\n Mean Squared Error on test set Lasso00001 alpha=.0001\", mean_squared_error_LR1) \n",
        "\n",
        "\n",
        "y_pred_LR = lasso001.predict(X_test) \n",
        "mean_squared_error_LR = np.mean((y_pred_LR- y_test)**2) \n",
        "print(\"\\n Mean Squared Error on test set Lasso001 alpha =.01\", mean_squared_error_LR) \n",
        "\n",
        "plt.subplot(1,2,1)\n",
        "plt.plot(lasso.coef_,alpha=0.7,linestyle='none',marker='*',markersize=5,color='red',label=r'Lasso; $\\alpha = 1$',zorder=7) # alpha here is for transparency\n",
        "plt.plot(lasso001.coef_,alpha=0.5,linestyle='none',marker='d',markersize=6,color='blue',label=r'Lasso; $\\alpha = 0.01$') # alpha here is for transparency\n",
        "\n",
        "plt.xlabel('Coefficient Index',fontsize=16)\n",
        "plt.ylabel('Coefficient Magnitude',fontsize=16)\n",
        "plt.legend(fontsize=10,loc=4)\n",
        "plt.subplot(1,2,2)\n",
        "plt.plot(lasso.coef_,alpha=0.7,linestyle='none',marker='*',markersize=5,color='red',label=r'Lasso; $\\alpha = 1$',zorder=7) # alpha here is for transparency\n",
        "plt.plot(lasso001.coef_,alpha=0.5,linestyle='none',marker='d',markersize=6,color='blue',label=r'Lasso; $\\alpha = 0.01$') # alpha here is for transparency\n",
        "plt.plot(lasso00001.coef_,alpha=0.8,linestyle='none',marker='v',markersize=6,color='black',label=r'Lasso; $\\alpha = 0.001$') # alpha here is for transparency\n",
        "plt.plot(lrlas.coef_,alpha=0.7,linestyle='none',marker='o',markersize=5,color='green',label='Linear Regression',zorder=2)\n",
        "plt.xlabel('Coefficient Index',fontsize=16)\n",
        "plt.ylabel('Coefficient Magnitude',fontsize=16)\n",
        "plt.legend(fontsize=13,loc=4)\n",
        "plt.tight_layout()\n",
        "plt.show()\n",
        "\n",
        "\n"
      ],
      "execution_count": null,
      "outputs": [
        {
          "output_type": "stream",
          "text": [
            "training score: 0.27514280455874185\n",
            "test score:  0.2450621267258499\n",
            "number of features used:  17\n",
            "\n",
            " Lasso training score for alpha=0.01: 0.27515399209061064\n",
            "Lasso test score for alpha =0.01:  0.24507516645959004\n",
            "Lasso number of features used: for alpha =0.01: 17\n",
            "\n",
            " training score for alpha=0.0001: 0.275153993216237\n",
            "test score for alpha =0.0001:  0.2450750896040339\n",
            "number of features used: for alpha =0.0001: 17\n",
            "\n",
            " LR training score: 0.2751539932163495\n",
            "LR test score:  0.24507508889408292\n",
            "\n",
            " Mean Squared Error on test set Lasso 1546967.2590828622\n",
            "\n",
            " Mean Squared Error on test set Lasso00001 alpha=.0001 1546940.6964359952\n",
            "\n",
            " Mean Squared Error on test set Lasso001 alpha =.01 1546940.5389488256\n"
          ],
          "name": "stdout"
        },
        {
          "output_type": "display_data",
          "data": {
            "image/png": "[encoded data removed]",
            "text/plain": [
              "<Figure size 432x288 with 2 Axes>"
            ]
          },
          "metadata": {
            "tags": [],
            "needs_background": "light"
          }
        }
      ]
    },
    {
      "cell_type": "code",
      "metadata": {
        "colab": {
          "base_uri": "https://localhost:8080/"
        },
        "id": "O8YcmsrHceN8",
        "outputId": "6ba25798-70e8-4bf8-f3e9-1f3b0aca1658"
      },
      "source": [
        "#Regularization with Elastic Net\n",
        "# import model \n",
        "from sklearn.linear_model import ElasticNet \n",
        "  \n",
        "# Train the model \n",
        "e_net = ElasticNet(alpha = 1) \n",
        "e_net.fit(X_train, y_train) \n",
        "  \n",
        "# calculate the prediction and mean square error \n",
        "y_pred_elastic = e_net.predict(X_test) \n",
        "mean_squared_error_EN = np.mean((y_pred_elastic - y_test)**2) \n",
        "print(\"Mean Squared Error on test set\", mean_squared_error_EN) \n",
        "\n",
        "# Train the model \n",
        "e_net01 = ElasticNet(alpha = .01) \n",
        "e_net01.fit(X_train, y_train) \n",
        "  \n",
        "# calculate the prediction and mean square error \n",
        "y_pred_elastic01 = e_net01.predict(X_test) \n",
        "mean_squared_error_EN01 = np.mean((y_pred_elastic01 - y_test)**2) \n",
        "print(\"Mean Squared Error on test set apha .01\", mean_squared_error_EN01) \n",
        "\n",
        "\n",
        "# Train the model \n",
        "e_net001 = ElasticNet(alpha = .001) \n",
        "e_net001.fit(X_train, y_train) \n",
        "  \n",
        "# calculate the prediction and mean square error \n",
        "y_pred_elastic001 = e_net001.predict(X_test) \n",
        "mean_squared_error_EN001 = np.mean((y_pred_elastic001 - y_test)**2) \n",
        "print(\"Mean Squared Error on test set apha .001\", mean_squared_error_EN001) "
      ],
      "execution_count": null,
      "outputs": [
        {
          "output_type": "stream",
          "text": [
            "Mean Squared Error on test set 1590279.6358784898\n",
            "Mean Squared Error on test set apha .01 1546679.714402869\n",
            "Mean Squared Error on test set apha .001 1546912.9006522151\n"
          ],
          "name": "stdout"
        }
      ]
    },
    {
      "cell_type": "code",
      "metadata": {
        "colab": {
          "base_uri": "https://localhost:8080/"
        },
        "id": "XhdPR5ITHaAf",
        "outputId": "1c8e7851-07c1-4c20-d2c5-f9634e4c2040"
      },
      "source": [
        "# https://www.kaggle.com/jnikhilsai/cross-validation-with-linear-regression\n",
        "\n",
        "# Run Kfold\n",
        "from sklearn.model_selection import KFold\n",
        "from sklearn.linear_model import LinearRegression\n",
        "from sklearn.feature_selection import RFE\n",
        "from sklearn.model_selection import GridSearchCV\n",
        "\n",
        "\n",
        "# step-1: create a cross-validation scheme\n",
        "folds = KFold(n_splits = 5, shuffle = True, random_state = 100)\n",
        "\n",
        "# step-2: specify range of hyperparameters to tune\n",
        "hyper_params = [{'n_features_to_select': list(range(1, 17))}]\n",
        "\n",
        "\n",
        "# step-3: perform grid search\n",
        "# 3.1 specify model\n",
        "lm = LinearRegression()\n",
        "lm.fit(X_train, y_train)\n",
        "rfe = RFE(lm)             \n",
        "\n",
        "# 3.2 call GridSearchCV()\n",
        "model_cv = GridSearchCV(estimator = rfe, \n",
        "                        param_grid = hyper_params, \n",
        "                        scoring= 'r2', \n",
        "                        cv = folds, \n",
        "                        verbose = 1,\n",
        "                        return_train_score=True)      \n",
        "\n",
        "# fit the model\n",
        "model_cv.fit(X_train, y_train)          \n",
        "\n",
        "cv_results = pd.DataFrame(model_cv.cv_results_)\n"
      ],
      "execution_count": null,
      "outputs": [
        {
          "output_type": "stream",
          "text": [
            "Fitting 5 folds for each of 16 candidates, totalling 80 fits\n"
          ],
          "name": "stdout"
        },
        {
          "output_type": "stream",
          "text": [
            "[Parallel(n_jobs=1)]: Using backend SequentialBackend with 1 concurrent workers.\n",
            "[Parallel(n_jobs=1)]: Done  80 out of  80 | elapsed:    1.4s finished\n"
          ],
          "name": "stderr"
        }
      ]
    },
    {
      "cell_type": "code",
      "metadata": {
        "colab": {
          "base_uri": "https://localhost:8080/",
          "height": 421
        },
        "id": "5C-LY50yHbLn",
        "outputId": "f65428d3-78f8-4ecc-fda4-cba0ea24e0f8"
      },
      "source": [
        "# plotting cv results\n",
        "plt.figure(figsize=(16,6))\n",
        "\n",
        "plt.plot(cv_results[\"param_n_features_to_select\"], cv_results[\"mean_test_score\"])\n",
        "plt.plot(cv_results[\"param_n_features_to_select\"], cv_results[\"mean_train_score\"])\n",
        "plt.xlabel('number of features')\n",
        "plt.ylabel('r-squared')\n",
        "plt.title(\"Optimal Number of Features\")\n",
        "plt.legend(['test score', 'train score'], loc='upper left')"
      ],
      "execution_count": null,
      "outputs": [
        {
          "output_type": "execute_result",
          "data": {
            "text/plain": [
              "<matplotlib.legend.Legend at 0x7f1d05399ef0>"
            ]
          },
          "metadata": {
            "tags": []
          },
          "execution_count": 13
        },
        {
          "output_type": "display_data",
          "data": {
            "image/png": "[encoded data removed]",
            "text/plain": [
              "<Figure size 1152x432 with 1 Axes>"
            ]
          },
          "metadata": {
            "tags": [],
            "needs_background": "light"
          }
        }
      ]
    },
    {
      "cell_type": "code",
      "metadata": {
        "colab": {
          "base_uri": "https://localhost:8080/"
        },
        "id": "7vuGUch3Hh60",
        "outputId": "4a5a12e8-c444-42fc-9a11-6c4ef8ab8a7f"
      },
      "source": [
        "from sklearn.metrics import r2_score\n",
        "import sklearn\n",
        "# final model\n",
        "n_features_optimal = 4\n",
        "\n",
        "lm = LinearRegression()\n",
        "lm.fit(X_train, y_train)\n",
        "\n",
        "rfe = RFE(lm, n_features_to_select=n_features_optimal)             \n",
        "rfe = rfe.fit(X_train, y_train)\n",
        "\n",
        "# predict prices of X_test\n",
        "y_pred = lm.predict(X_test)\n",
        "r2 = sklearn.metrics.r2_score(y_test, y_pred)\n",
        "print(r2)"
      ],
      "execution_count": null,
      "outputs": [
        {
          "output_type": "stream",
          "text": [
            "0.24507508889408292\n"
          ],
          "name": "stdout"
        }
      ]
    },
    {
      "cell_type": "code",
      "metadata": {
        "colab": {
          "base_uri": "https://localhost:8080/"
        },
        "id": "_fBXs_0iz6sP",
        "outputId": "a8013aaa-e814-47b1-a444-95d462777dd5"
      },
      "source": [
        "# Bring in library to see more statistical analysis on coefficients\n",
        "import statsmodels.api as sm\n",
        "from statsmodels.api import add_constant\n",
        "\n",
        "# Convert to a float64\n",
        "X = X.astype('float64')  # Without this, OLS function errors out\n",
        "X = add_constant(X)\n",
        "\n",
        "attributes_index = [0,1,2,3,4,5,6,7,8,9,10,11,12,13,14,15,16,17]\n",
        "\n",
        "# Print out summary with all attributes\n",
        "X_sig = X[:,attributes_index]\n",
        "obj_OLS = sm.OLS(endog = y, exog = X_sig).fit()\n",
        "print(obj_OLS.summary())"
      ],
      "execution_count": null,
      "outputs": [
        {
          "output_type": "stream",
          "text": [
            "/usr/local/lib/python3.6/dist-packages/statsmodels/tools/_testing.py:19: FutureWarning: pandas.util.testing is deprecated. Use the functions in the public API at pandas.testing instead.\n",
            "  import pandas.util.testing as tm\n"
          ],
          "name": "stderr"
        },
        {
          "output_type": "stream",
          "text": [
            "                            OLS Regression Results                            \n",
            "==============================================================================\n",
            "Dep. Variable:                      y   R-squared:                       0.267\n",
            "Model:                            OLS   Adj. R-squared:                  0.263\n",
            "Method:                 Least Squares   F-statistic:                     69.27\n",
            "Date:                Sat, 05 Dec 2020   Prob (F-statistic):          3.76e-203\n",
            "Time:                        16:10:57   Log-Likelihood:                -27723.\n",
            "No. Observations:                3251   AIC:                         5.548e+04\n",
            "Df Residuals:                    3233   BIC:                         5.559e+04\n",
            "Df Model:                          17                                         \n",
            "Covariance Type:            nonrobust                                         \n",
            "==============================================================================\n",
            "                 coef    std err          t      P>|t|      [0.025      0.975]\n",
            "------------------------------------------------------------------------------\n",
            "const       2622.3145    115.513     22.702      0.000    2395.829    2848.800\n",
            "x1             2.9605      0.407      7.276      0.000       2.163       3.758\n",
            "x2             1.4861      0.938      1.584      0.113      -0.353       3.325\n",
            "x3             0.7152      7.968      0.090      0.928     -14.907      16.337\n",
            "x4             1.6058      3.136      0.512      0.609      -4.543       7.755\n",
            "x5         -2047.4855     96.325    -21.256      0.000   -2236.349   -1858.622\n",
            "x6           125.4943     48.478      2.589      0.010      30.444     220.545\n",
            "x7          -100.4502     69.161     -1.452      0.146    -236.055      35.155\n",
            "x8          -270.3658    164.411     -1.644      0.100    -592.727      51.995\n",
            "x9           -45.5930     63.543     -0.718      0.473    -170.183      78.997\n",
            "x10         -354.2164     62.659     -5.653      0.000    -477.072    -231.361\n",
            "x11         1024.5584     55.903     18.328      0.000     914.950    1134.166\n",
            "x12         -169.2149     60.972     -2.775      0.006    -288.762     -49.667\n",
            "x13         -127.8400     64.355     -1.986      0.047    -254.021      -1.659\n",
            "x14          -20.2555     64.016     -0.316      0.752    -145.771     105.260\n",
            "x15          106.6191     53.640      1.988      0.047       1.448     211.790\n",
            "x16          176.4852    170.285      1.036      0.300    -157.393     510.363\n",
            "x17          239.2736    107.373      2.228      0.026      28.747     449.801\n",
            "==============================================================================\n",
            "Omnibus:                      926.548   Durbin-Watson:                   1.241\n",
            "Prob(Omnibus):                  0.000   Jarque-Bera (JB):             2378.934\n",
            "Skew:                           1.540   Prob(JB):                         0.00\n",
            "Kurtosis:                       5.841   Cond. No.                         853.\n",
            "==============================================================================\n",
            "\n",
            "Warnings:\n",
            "[1] Standard Errors assume that the covariance matrix of the errors is correctly specified.\n"
          ],
          "name": "stdout"
        }
      ]
    },
    {
      "cell_type": "code",
      "metadata": {
        "colab": {
          "base_uri": "https://localhost:8080/"
        },
        "id": "ptwqMrBYrelH",
        "outputId": "ef8394aa-5123-4317-df23-fea084932928"
      },
      "source": [
        "from sklearn.metrics import mean_squared_error\n",
        "\n",
        "#Normal Equations\n",
        "firstTerm = np.linalg.inv(np.dot(X_train.T, X_train))\n",
        "secondTerm = np.dot(X_train.T, y_train)\n",
        "Theta = np.dot(firstTerm, secondTerm)\n",
        "normal_predictions = np.dot(X_test, Theta)\n",
        "MSE = mean_squared_error(y_true=y_test, y_pred=normal_predictions)\n",
        "\n",
        "from sklearn.metrics import r2_score\n",
        "model_acc_dt = r2_score(y_test,normal_predictions)\n",
        "\n",
        "# Show summary\n",
        "print(\"These are weights via Normal Equations:\")\n",
        "print(Theta)\n",
        "print(\"\\n MSE=\" + str(MSE))\n",
        "print(\"\\n R2 Score is:\",model_acc_dt)"
      ],
      "execution_count": null,
      "outputs": [
        {
          "output_type": "stream",
          "text": [
            "These are weights via Normal Equations:\n",
            "[ 177.21089973   31.07673254   23.87854747   21.50662096 -489.40536488\n",
            "   52.306094    -25.46763044  -13.91196359  -12.50592983 -134.54857206\n",
            "  464.309268    -84.28015233  -47.28130853  -24.66971374   44.91397295\n",
            "   45.23211397   74.37861288]\n",
            "\n",
            " MSE=2943710.9499178766\n",
            "\n",
            " R2 Score is: -0.43656491177606327\n"
          ],
          "name": "stdout"
        }
      ]
    },
    {
      "cell_type": "code",
      "metadata": {
        "colab": {
          "base_uri": "https://localhost:8080/"
        },
        "id": "l0KQhSX8AUza",
        "outputId": "9dd6c23b-debc-4f24-8cad-d1d6b5e36a30"
      },
      "source": [
        "#Create and Fit a Decision Tree Regressor Object\n",
        "from sklearn.tree import DecisionTreeRegressor\n",
        "regObj = DecisionTreeRegressor(criterion = 'mse')\n",
        "regObj.fit(X_train,y_train) \n",
        "\n",
        "#Create Prediction\n",
        "y_pred_dt = regObj.predict(X_test)\n",
        "MSE_dt = mean_squared_error(y_true=y_test, y_pred=y_pred_dt)\n",
        "print(\"This decision tree's MSE is: \", MSE_dt)\n",
        "# R² score tells us how well our model is fitted to the data by comparing it to the average line of the dependent variable. \n",
        "#If the score is closer to 1, then it indicates that our model performs well versus if the score is farther from 1, then it indicates that our model does not perform so well.\n",
        "#If the chosen model fits worse than a horizontal line, then R2 is negative. Note that R2 is not always the square of anything, so it can have a negative value without violating any rules of math. \n",
        "#R2 is negative only when the chosen model does not follow the trend of the data, so fits worse than a horizontal line\n",
        "from sklearn.metrics import r2_score\n",
        "model_acc_dt = r2_score(y_test,y_pred)\n",
        "print(\"R2 Score is:\",model_acc_dt)"
      ],
      "execution_count": null,
      "outputs": [
        {
          "output_type": "stream",
          "text": [
            "This decision tree's MSE is:  3064088.191342213\n",
            "R2 Score is: 0.24507508889408292\n"
          ],
          "name": "stdout"
        }
      ]
    },
    {
      "cell_type": "code",
      "metadata": {
        "colab": {
          "base_uri": "https://localhost:8080/"
        },
        "id": "07sByxLIrhGe",
        "outputId": "6a807720-f739-4859-cb1b-1d1ebf4edb88"
      },
      "source": [
        "#Random Forest Regression\n",
        "\n",
        "#Create and Fit a Regressor Object\n",
        "from sklearn.ensemble import RandomForestRegressor\n",
        "from sklearn.metrics import r2_score\n",
        "\n",
        "# Create Model\n",
        "estimators = find_n_estimators(X_train,X_test,y_train,y_test)\n",
        "regObj = RandomForestRegressor(n_estimators=estimators)\n",
        "regObj.fit(X_train,y_train)\n",
        "predictions = regObj.predict(X_test)\n",
        "model_acc_dt = r2_score(y_test,predictions)\n",
        "\n",
        "# Use the forest's predict method on the test data\n",
        "\n",
        "# Calculate the absolute errors\n",
        "errors = abs(predictions - y_test)\n",
        "# Print out the mean absolute error (mae)\n",
        "print('Mean Absolute Error:', round(np.mean(errors), 2), 'degrees.')\n",
        "\n",
        "# R² score tells us how well our model is fitted to the data by comparing it to the average line of the dependent variable. \n",
        "#If the score is closer to 1, then it indicates that our model performs well versus if the score is farther from 1,\n",
        "# then it indicates that our model does not perform so well.\n",
        "print(\"R2 Score is:\",model_acc_dt)\n",
        "print(\"number of estimators is:\",estimators)"
      ],
      "execution_count": null,
      "outputs": [
        {
          "output_type": "stream",
          "text": [
            "Mean Absolute Error: 934.43 degrees.\n",
            "R2 Score is: 0.1796962410469326\n",
            "number of estimators is: 35\n"
          ],
          "name": "stdout"
        }
      ]
    },
    {
      "cell_type": "markdown",
      "metadata": {
        "id": "NkTCoeSJ5Zla"
      },
      "source": [
        "### Create New Dataset via backward elimination and rerun models on new dataset"
      ]
    },
    {
      "cell_type": "code",
      "metadata": {
        "colab": {
          "base_uri": "https://localhost:8080/"
        },
        "id": "XY0ugAZtiQh5",
        "outputId": "c76c3dd9-b0ad-4d1a-d6fd-a8f56da43f6f"
      },
      "source": [
        "# Attribute Selection: Backward Elimination\n",
        "\n",
        "# Set Variables\n",
        "SL = .05 # p-value can not exceed this value\n",
        "\n",
        "max_pvalue = 1\n",
        "new_attributes_index = [0,1,2,3,4,5,6,7,8,9,10,11,12,13,14,15,16,17]\n",
        "new_X_sig = X[:,new_attributes_index]\n",
        "new_obj_OLS = sm.OLS(endog = y, exog = new_X_sig).fit()\n",
        "changed_attributes_index = []\n",
        "attribute_names = []\n",
        "\n",
        "# Run Backward elimination function\n",
        "print(\"This is showing step by step the process of backward elimination:\")\n",
        "\n",
        "while max_pvalue > .05:\n",
        "\n",
        "    End_Loop = len(new_attributes_index) # Find end for loop\n",
        "    changed_attributes_index = [] # reset attributes_index\n",
        "\n",
        "    # reconfigure attributes list\n",
        "    for x in range(0,End_Loop):\n",
        "      if max_pvalue == new_obj_OLS.pvalues[x]:\n",
        "        print(\"remove attribute\" + str(new_attributes_index[x]))\n",
        "      else:\n",
        "        changed_attributes_index.append(new_attributes_index[x])\n",
        "\n",
        "    # Rerun with the elimination of an attribute\n",
        "    new_X_sig = X[:,changed_attributes_index]\n",
        "    new_obj_OLS = sm.OLS(endog = y, exog = new_X_sig).fit()\n",
        "    max_pvalue = max(new_obj_OLS.pvalues)\n",
        "\n",
        "    # Restructure Index and Rerun function\n",
        "    print(changed_attributes_index)\n",
        "      \n",
        "    new_attributes_index = changed_attributes_index\n",
        "    End_Loop = len(new_attributes_index)  \n",
        "\n",
        "# Identify names of attribute via Index\n",
        "for x in range(0,len(new_attributes_index)):\n",
        "  if not x == 0:\n",
        "    pos = new_attributes_index[x] -1 \n",
        "    colname = dataset4.columns[pos]\n",
        "    attribute_names.append(colname)\n",
        "\n",
        "# Print off summary and attribute names\n",
        "print(\"\\n\")\n",
        "print(\"These are the attribute names with significance:\")\n",
        "print(attribute_names)\n",
        "print(\"\\n\")\n",
        "print(new_obj_OLS.summary())"
      ],
      "execution_count": null,
      "outputs": [
        {
          "output_type": "stream",
          "text": [
            "This is showing step by step the process of backward elimination:\n",
            "[0, 1, 2, 3, 4, 5, 6, 7, 8, 9, 10, 11, 12, 13, 14, 15, 16, 17]\n",
            "remove attribute3\n",
            "[0, 1, 2, 4, 5, 6, 7, 8, 9, 10, 11, 12, 13, 14, 15, 16, 17]\n",
            "remove attribute14\n",
            "[0, 1, 2, 4, 5, 6, 7, 8, 9, 10, 11, 12, 13, 15, 16, 17]\n",
            "remove attribute4\n",
            "[0, 1, 2, 5, 6, 7, 8, 9, 10, 11, 12, 13, 15, 16, 17]\n",
            "remove attribute9\n",
            "[0, 1, 2, 5, 6, 7, 8, 10, 11, 12, 13, 15, 16, 17]\n",
            "remove attribute16\n",
            "[0, 1, 2, 5, 6, 7, 8, 10, 11, 12, 13, 15, 17]\n",
            "remove attribute7\n",
            "[0, 1, 2, 5, 6, 8, 10, 11, 12, 13, 15, 17]\n",
            "remove attribute8\n",
            "[0, 1, 2, 5, 6, 10, 11, 12, 13, 15, 17]\n",
            "remove attribute15\n",
            "[0, 1, 2, 5, 6, 10, 11, 12, 13, 17]\n",
            "\n",
            "\n",
            "These are the attribute names with significance:\n",
            "['price', 'num_lectures', 'is_paid_True', 'level_Beginner Level', 'subject_Musical Instruments', 'subject_Web Development', 'season_Spring', 'season_Summer', 'subjectivity']\n",
            "\n",
            "\n",
            "                            OLS Regression Results                            \n",
            "==============================================================================\n",
            "Dep. Variable:                      y   R-squared:                       0.265\n",
            "Model:                            OLS   Adj. R-squared:                  0.263\n",
            "Method:                 Least Squares   F-statistic:                     129.6\n",
            "Date:                Sat, 05 Dec 2020   Prob (F-statistic):          6.04e-209\n",
            "Time:                        16:11:54   Log-Likelihood:                -27728.\n",
            "No. Observations:                3251   AIC:                         5.548e+04\n",
            "Df Residuals:                    3241   BIC:                         5.554e+04\n",
            "Df Model:                           9                                         \n",
            "Covariance Type:            nonrobust                                         \n",
            "==============================================================================\n",
            "                 coef    std err          t      P>|t|      [0.025      0.975]\n",
            "------------------------------------------------------------------------------\n",
            "const       2621.9087     99.190     26.433      0.000    2427.427    2816.391\n",
            "x1             2.9600      0.405      7.317      0.000       2.167       3.753\n",
            "x2             1.6385      0.513      3.196      0.001       0.633       2.644\n",
            "x3         -2051.9250     96.100    -21.352      0.000   -2240.348   -1863.502\n",
            "x4           149.4005     46.052      3.244      0.001      59.107     239.694\n",
            "x5          -340.4320     57.321     -5.939      0.000    -452.821    -228.043\n",
            "x6          1035.6371     51.713     20.027      0.000     934.245    1137.030\n",
            "x7          -171.0958     50.515     -3.387      0.001    -270.140     -72.051\n",
            "x8          -129.2504     54.484     -2.372      0.018    -236.076     -22.425\n",
            "x9           320.4526     74.537      4.299      0.000     174.308     466.597\n",
            "==============================================================================\n",
            "Omnibus:                      923.762   Durbin-Watson:                   1.246\n",
            "Prob(Omnibus):                  0.000   Jarque-Bera (JB):             2368.484\n",
            "Skew:                           1.536   Prob(JB):                         0.00\n",
            "Kurtosis:                       5.837   Cond. No.                         598.\n",
            "==============================================================================\n",
            "\n",
            "Warnings:\n",
            "[1] Standard Errors assume that the covariance matrix of the errors is correctly specified.\n"
          ],
          "name": "stdout"
        }
      ]
    },
    {
      "cell_type": "code",
      "metadata": {
        "colab": {
          "base_uri": "https://localhost:8080/",
          "height": 237
        },
        "id": "va_kYM1D3-3g",
        "outputId": "9df9ccad-8c20-4267-fdc4-8296728ac09e"
      },
      "source": [
        "# Create New Dataset with selected features\n",
        "attribute_names += ['num_subscribers']\n",
        "dataset5 = dataset4[attribute_names]\n",
        "print(dataset5.shape)\n",
        "dataset5.head()"
      ],
      "execution_count": null,
      "outputs": [
        {
          "output_type": "stream",
          "text": [
            "(3251, 10)\n"
          ],
          "name": "stdout"
        },
        {
          "output_type": "execute_result",
          "data": {
            "text/html": [
              "<div>\n",
              "<style scoped>\n",
              "    .dataframe tbody tr th:only-of-type {\n",
              "        vertical-align: middle;\n",
              "    }\n",
              "\n",
              "    .dataframe tbody tr th {\n",
              "        vertical-align: top;\n",
              "    }\n",
              "\n",
              "    .dataframe thead th {\n",
              "        text-align: right;\n",
              "    }\n",
              "</style>\n",
              "<table border=\"1\" class=\"dataframe\">\n",
              "  <thead>\n",
              "    <tr style=\"text-align: right;\">\n",
              "      <th></th>\n",
              "      <th>price</th>\n",
              "      <th>num_lectures</th>\n",
              "      <th>is_paid_True</th>\n",
              "      <th>level_Beginner Level</th>\n",
              "      <th>subject_Musical Instruments</th>\n",
              "      <th>subject_Web Development</th>\n",
              "      <th>season_Spring</th>\n",
              "      <th>season_Summer</th>\n",
              "      <th>subjectivity</th>\n",
              "      <th>num_subscribers</th>\n",
              "    </tr>\n",
              "  </thead>\n",
              "  <tbody>\n",
              "    <tr>\n",
              "      <th>0</th>\n",
              "      <td>200</td>\n",
              "      <td>51</td>\n",
              "      <td>1</td>\n",
              "      <td>0</td>\n",
              "      <td>0</td>\n",
              "      <td>0</td>\n",
              "      <td>0</td>\n",
              "      <td>0</td>\n",
              "      <td>1.00000</td>\n",
              "      <td>2147</td>\n",
              "    </tr>\n",
              "    <tr>\n",
              "      <th>1</th>\n",
              "      <td>75</td>\n",
              "      <td>274</td>\n",
              "      <td>1</td>\n",
              "      <td>0</td>\n",
              "      <td>0</td>\n",
              "      <td>0</td>\n",
              "      <td>1</td>\n",
              "      <td>0</td>\n",
              "      <td>0.40000</td>\n",
              "      <td>2792</td>\n",
              "    </tr>\n",
              "    <tr>\n",
              "      <th>2</th>\n",
              "      <td>45</td>\n",
              "      <td>51</td>\n",
              "      <td>1</td>\n",
              "      <td>0</td>\n",
              "      <td>0</td>\n",
              "      <td>0</td>\n",
              "      <td>0</td>\n",
              "      <td>0</td>\n",
              "      <td>0.00000</td>\n",
              "      <td>2174</td>\n",
              "    </tr>\n",
              "    <tr>\n",
              "      <th>3</th>\n",
              "      <td>95</td>\n",
              "      <td>36</td>\n",
              "      <td>1</td>\n",
              "      <td>0</td>\n",
              "      <td>0</td>\n",
              "      <td>0</td>\n",
              "      <td>1</td>\n",
              "      <td>0</td>\n",
              "      <td>0.00000</td>\n",
              "      <td>2451</td>\n",
              "    </tr>\n",
              "    <tr>\n",
              "      <th>4</th>\n",
              "      <td>200</td>\n",
              "      <td>26</td>\n",
              "      <td>1</td>\n",
              "      <td>0</td>\n",
              "      <td>0</td>\n",
              "      <td>0</td>\n",
              "      <td>0</td>\n",
              "      <td>0</td>\n",
              "      <td>0.00000</td>\n",
              "      <td>1276</td>\n",
              "    </tr>\n",
              "  </tbody>\n",
              "</table>\n",
              "</div>"
            ],
            "text/plain": [
              "   price  num_lectures  ...  subjectivity  num_subscribers\n",
              "0    200            51  ...       1.00000             2147\n",
              "1     75           274  ...       0.40000             2792\n",
              "2     45            51  ...       0.00000             2174\n",
              "3     95            36  ...       0.00000             2451\n",
              "4    200            26  ...       0.00000             1276\n",
              "\n",
              "[5 rows x 10 columns]"
            ]
          },
          "metadata": {
            "tags": []
          },
          "execution_count": 20
        }
      ]
    },
    {
      "cell_type": "code",
      "metadata": {
        "id": "6o1jopLp6lDZ"
      },
      "source": [
        "# Create new test set X\n",
        "end_x = len(new_attributes_index)\n",
        "\n",
        "# Assign X and y values\n",
        "X_new = dataset5.iloc[:,0:9].values\n",
        "y_new = dataset5.iloc[:,9]\n",
        "\n",
        "\n",
        "#Splitting the data into Training Set and Test Set\n",
        "from sklearn.model_selection import train_test_split\n",
        "X_train_new, X_test_new, y_train_new, y_test_new = train_test_split(X_new,y_new,test_size=0.3,random_state=0)\n",
        "\n",
        "#Normalizing the features\n",
        "from sklearn.preprocessing import StandardScaler\n",
        "sc_X_new = StandardScaler()\n",
        "X_train_new = sc_X.fit_transform(X_train_new)\n",
        "X_test_new = sc_X.transform(X_test_new)\n"
      ],
      "execution_count": null,
      "outputs": []
    },
    {
      "cell_type": "code",
      "metadata": {
        "colab": {
          "base_uri": "https://localhost:8080/"
        },
        "id": "YkNB6S4xVTXg",
        "outputId": "a9a0f805-265a-458b-9138-5933f666990f"
      },
      "source": [
        "#Create Prediction for MLR\n",
        "#Fitting Multiple Linear Regression to Training Set\n",
        "from sklearn.linear_model import LinearRegression\n",
        "mlrObj = LinearRegression()\n",
        "mlrObj.fit(X_train_new,y_train_new)\n",
        "\n",
        "#Predicting on the Test Set\n",
        "y_pred_new = mlrObj.predict(X_test_new)\n",
        "\n",
        "# R² score tells us how well our model is fitted to the data by comparing it to the average line of the dependent variable. \n",
        "#If the score is closer to 1, then it indicates that our model performs well versus if the score is farther from 1, then it indicates that our model does not perform so well.\n",
        "#If the chosen model fits worse than a horizontal line, then R2 is negative. Note that R2 is not always the square of anything, so it can have a negative value without violating any rules of math. \n",
        "#R2 is negative only when the chosen model does not follow the trend of the data, so fits worse than a horizontal line\n",
        "from sklearn.metrics import r2_score\n",
        "model_acc_dt = r2_score(y_test_new,y_pred_new)\n",
        "print(\"\\n R2 Score is:\",model_acc_dt)"
      ],
      "execution_count": null,
      "outputs": [
        {
          "output_type": "stream",
          "text": [
            "\n",
            " R2 Score is: 0.24394858989834678\n"
          ],
          "name": "stdout"
        }
      ]
    },
    {
      "cell_type": "code",
      "metadata": {
        "colab": {
          "base_uri": "https://localhost:8080/"
        },
        "id": "wStMHxzTGOtm",
        "outputId": "d7cada23-4b7e-43cd-90a4-fe4fbfbf4698"
      },
      "source": [
        "from sklearn.metrics import mean_squared_error\n",
        "\n",
        "#Normal Equations\n",
        "firstTerm = np.linalg.inv(np.dot(X_train_new.T, X_train_new)) \n",
        "secondTerm = np.dot(X_train_new.T, y_train_new)\n",
        "Theta_new = np.dot(firstTerm, secondTerm)\n",
        "normal_predictions_new = np.dot(X_test_new, Theta_new)\n",
        "MSE = mean_squared_error(y_true=y_test_new, y_pred=normal_predictions_new)\n",
        "model_acc_dt = r2_score(y_test_new,normal_predictions_new)\n",
        "\n",
        "\n",
        "# Show summary\n",
        "print(\"These are weights via Normal Equations:\")\n",
        "print(Theta_new)\n",
        "print(\"\\n R2 Score is:\",model_acc_dt)\n",
        "print(\"\\n MSE=\" + str(MSE))\n",
        "\n"
      ],
      "execution_count": null,
      "outputs": [
        {
          "output_type": "stream",
          "text": [
            "These are weights via Normal Equations:\n",
            "[ 177.0745581    53.56120973 -489.3047492    59.3609964  -130.63086294\n",
            "  467.3057993   -75.48325459  -39.40643149  108.67555518]\n",
            "\n",
            " R2 Score is: -0.4399604808666988\n",
            "\n",
            " MSE=2950668.918772169\n"
          ],
          "name": "stdout"
        }
      ]
    },
    {
      "cell_type": "code",
      "metadata": {
        "colab": {
          "base_uri": "https://localhost:8080/"
        },
        "id": "QMoyUEB0Bw9Y",
        "outputId": "6f303afa-2dfe-4513-e5bb-b2e9c55449e1"
      },
      "source": [
        "#Polynomial Regression AFter Backwards\n",
        "from sklearn.metrics import mean_squared_error\n",
        "#Fitting Linear Regression\n",
        "from sklearn.linear_model import LinearRegression\n",
        "lrObj = LinearRegression()\n",
        "lrObj.fit(X_train_new, y_train_new)\n",
        "#Polynomial Regression\n",
        "from sklearn.preprocessing import PolynomialFeatures\n",
        "df = pd.DataFrame(columns=['k','MSE'])\n",
        "columns = list(df)\n",
        "data = []\n",
        "k = 2\n",
        "while k < 6:\n",
        "    polyFeatureObj = PolynomialFeatures(degree=k)\n",
        "    X_poly = polyFeatureObj.fit_transform(X_train_new)\n",
        "    prObj = LinearRegression()\n",
        "    prObj.fit(X_poly, y_train_new)\n",
        "    y_pred = prObj.predict(polyFeatureObj.fit_transform(X_test_new))\n",
        "    MSE = mean_squared_error(y_test_new, y_pred)\n",
        "    values = [k,MSE]\n",
        "    zipped = zip(columns, values)\n",
        "    a_dictionary = dict(zipped)\n",
        "    data.append(a_dictionary)\n",
        "    k = k + 1\n",
        "df = df.append(data, True)\n",
        "pd.options.display.float_format = '{:.5f}'.format\n",
        "print(df)"
      ],
      "execution_count": null,
      "outputs": [
        {
          "output_type": "stream",
          "text": [
            "   k                            MSE\n",
            "0  2                  1550337.88730\n",
            "1  3                  1815501.36353\n",
            "2  4 167429838280599596433408.00000\n",
            "3  5    110416142154222845952.00000\n"
          ],
          "name": "stdout"
        }
      ]
    },
    {
      "cell_type": "code",
      "metadata": {
        "colab": {
          "base_uri": "https://localhost:8080/",
          "height": 440
        },
        "id": "00VAlZnsESIV",
        "outputId": "a574a82c-9aae-4b9f-f154-8e33b18fefdf"
      },
      "source": [
        "#Regularization with Ridge AFTER Backwards\n",
        "from sklearn.linear_model import LinearRegression\n",
        "from sklearn.linear_model import Ridge\n",
        "lrNew = LinearRegression()\n",
        "\n",
        "lrNew.fit(X_train_new, y_train_new)\n",
        "\n",
        "rrNew = Ridge(alpha=0.01) \n",
        "# higher the alpha value, more restriction on the coefficients; low alpha > more generalization,\n",
        "# in this case linear and ridge regression resembles\n",
        "rrNew.fit(X_train_new, y_train_new)\n",
        "\n",
        "rr100New = Ridge(alpha=100) #  comparison with alpha value\n",
        "rr100New.fit(X_train_new, y_train_new)\n",
        "\n",
        "train_scoreNew=lrNew.score(X_train_new, y_train_new)\n",
        "test_scoreNew=lrNew.score(X_test_new, y_test_new)\n",
        "\n",
        "Ridge_train_scoreNEW = rrNew.score(X_train_new,y_train_new)\n",
        "Ridge_test_scoreNEW = rrNew.score(X_test_new, y_test_new)\n",
        "\n",
        "Ridge_train_score100NEW = rr100New.score(X_train_new,y_train_new)\n",
        "Ridge_test_score100NEW = rr100New.score(X_test_new, y_test_new)\n",
        "\n",
        "print(\"New training score for alpha=.01:\", Ridge_train_scoreNEW)\n",
        "print(\"New test score for alpha =.01: \", Ridge_test_scoreNEW)\n",
        "\n",
        "print(\"\\n New training score for alpha=100:\", Ridge_train_score100NEW)\n",
        "print(\"New test score for alpha =100: \", Ridge_test_score100NEW)\n",
        "\n",
        "\n",
        "y_pred_RRNew = rrNew.predict(X_test_new) \n",
        "mean_squared_error_RRNEW = np.mean((y_pred_RRNew- y_test_new)**2)\n",
        "print(\"\\n New Mean Squared Error on test set Ridge alpha .01 is:\", mean_squared_error_RRNEW) \n",
        "\n",
        "y_pred_RR100NEW = rr100New.predict(X_test_new) \n",
        "mean_squared_error_RR100NEW = np.mean((y_pred_RR100NEW- y_test_new)**2)\n",
        "print(\"\\n New Mean Squared Error on test set Ridge alpha 100 is:\", mean_squared_error_RR100NEW) \n",
        "\n",
        "\n",
        "plt.plot(rrNew.coef_,alpha=0.7,linestyle='none',marker='*',markersize=5,color='red',label=r'Ridge; $\\alpha = 0.01$',zorder=7) \n",
        "plt.plot(rr100New.coef_,alpha=0.5,linestyle='none',marker='d',markersize=6,color='blue',label=r'Ridge; $\\alpha = 100$') \n",
        "plt.plot(lrNew.coef_,alpha=0.4,linestyle='none',marker='o',markersize=7,color='green',label='Linear Regression')\n",
        "plt.xlabel('Coefficient Index',fontsize=16)\n",
        "plt.ylabel('Coefficient Magnitude',fontsize=16)\n",
        "plt.legend(fontsize=13,loc=4)\n",
        "plt.show()"
      ],
      "execution_count": null,
      "outputs": [
        {
          "output_type": "stream",
          "text": [
            "New training score for alpha=.01: 0.27295598658807096\n",
            "New test score for alpha =.01:  0.24394867460672565\n",
            "\n",
            " New training score for alpha=100: 0.27247200583248665\n",
            "New test score for alpha =100:  0.24425883230868128\n",
            "\n",
            " New Mean Squared Error on test set Ridge alpha .01 is: 1549248.8693104303\n",
            "\n",
            " New Mean Squared Error on test set Ridge alpha 100 is: 1548613.315277358\n"
          ],
          "name": "stdout"
        },
        {
          "output_type": "display_data",
          "data": {
            "image/png": "[encoded data removed]",
            "text/plain": [
              "<Figure size 432x288 with 1 Axes>"
            ]
          },
          "metadata": {
            "tags": [],
            "needs_background": "light"
          }
        }
      ]
    },
    {
      "cell_type": "code",
      "metadata": {
        "colab": {
          "base_uri": "https://localhost:8080/"
        },
        "id": "0ObRg709DffQ",
        "outputId": "34373404-1465-493b-8841-c2978ad61169"
      },
      "source": [
        "#Regularization with Elastic Net After Backwards\n",
        "# import model \n",
        "from sklearn.linear_model import ElasticNet \n",
        "  \n",
        "# Train the model \n",
        "e_netNew = ElasticNet(alpha = 1) \n",
        "e_netNew.fit(X_train_new, y_train_new) \n",
        "  \n",
        "# calculate the prediction and mean square error \n",
        "y_pred_elasticNew = e_netNew.predict(X_test_new) \n",
        "mean_squared_error_ENNew = np.mean((y_pred_elasticNew - y_test_new)**2) \n",
        "print(\"New Mean Squared Error on test set\", mean_squared_error_ENNew) \n",
        "\n",
        "\n",
        "# Train the model \n",
        "e_net01New = ElasticNet(alpha = .01) \n",
        "e_net01New.fit(X_train_new, y_train_new) \n",
        "  \n",
        "# calculate the prediction and mean square error \n",
        "y_pred_elastic01New = e_net01New.predict(X_test_new) \n",
        "mean_squared_error_EN01New = np.mean((y_pred_elastic01New - y_test_new)**2) \n",
        "print(\"New Mean Squared Error on test set apha .01\", mean_squared_error_EN01New) \n",
        "\n",
        "\n",
        "# Train the model \n",
        "e_net001New = ElasticNet(alpha = .001) \n",
        "e_net001New.fit(X_train_new, y_train_new) \n",
        "  \n",
        "# calculate the prediction and mean square error \n",
        "y_pred_elastic001New = e_net001New.predict(X_test_new) \n",
        "mean_squared_error_EN001New = np.mean((y_pred_elastic001New - y_test_new)**2) \n",
        "print(\"New Mean Squared Error on test set apha .001\", mean_squared_error_EN001New) "
      ],
      "execution_count": null,
      "outputs": [
        {
          "output_type": "stream",
          "text": [
            "New Mean Squared Error on test set 1595486.6405167459\n",
            "New Mean Squared Error on test set apha .01 1549067.906039478\n",
            "New Mean Squared Error on test set apha .001 1549229.5242660171\n"
          ],
          "name": "stdout"
        }
      ]
    },
    {
      "cell_type": "code",
      "metadata": {
        "colab": {
          "base_uri": "https://localhost:8080/",
          "height": 644
        },
        "id": "JfyEJ5VrD-Fh",
        "outputId": "6f023dc3-60be-4e92-bc7e-a40a1342af22"
      },
      "source": [
        "#regularization with Lasso\n",
        "import math \n",
        "import matplotlib.pyplot as plt \n",
        "import pandas as pd\n",
        "import numpy as np\n",
        "# difference of lasso and ridge regression is that some of the coefficients can be zero i.e. some of the features are \n",
        "# completely neglected\n",
        "from sklearn.linear_model import Lasso\n",
        "from sklearn.linear_model import LinearRegression\n",
        "\n",
        "lassoNew = Lasso()\n",
        "lassoNew.fit(X_train_new,y_train_new)\n",
        "lasso_train_scoreNew=lassoNew.score(X_train_new,y_train_new)\n",
        "lasso_test_scoreNew=lassoNew.score(X_test_new,y_test_new)\n",
        "coeff_usedNew = np.sum(lassoNew.coef_!=0)\n",
        "print( \"New training score:\", lasso_train_scoreNew )\n",
        "print( \"New test score: \", lasso_test_scoreNew)\n",
        "print(\"New number of features used: \", coeff_usedNew)\n",
        "\n",
        "lasso001New = Lasso(alpha=0.01, max_iter=10e5)\n",
        "lasso001New.fit(X_train_new,y_train_new)\n",
        "lasso_train_score001New=lasso001New.score(X_train_new,y_train_new)\n",
        "lasso_test_score001New=lasso001New.score(X_test_new,y_test_new)\n",
        "coeff_used001New = np.sum(lasso001New.coef_!=0)\n",
        "\n",
        "print( \"\\n New training score for alpha=0.01:\", lasso_train_score001New )\n",
        "print( \"New test score for alpha =0.01: \", lasso_test_score001New)\n",
        "print( \"New number of features used: for alpha =0.01:\", coeff_used001New)\n",
        "\n",
        "lasso00001New = Lasso(alpha=0.0001, max_iter=10e5)\n",
        "lasso00001New.fit(X_train_new,y_train_new)\n",
        "lasso_train_score00001New=lasso00001New.score(X_train_new,y_train_new)\n",
        "lasso_test_score00001New=lasso00001New.score(X_test_new,y_test_new)\n",
        "coeff_used00001New = np.sum(lasso00001New.coef_!=0)\n",
        "print( \"\\n New training score for alpha=0.0001:\", lasso_train_score00001New )\n",
        "print (\" New test score for alpha =0.0001: \", lasso_test_score00001New)\n",
        "print( \"New number of features used: for alpha =0.0001:\", coeff_used00001New)\n",
        "\n",
        "lrNewL = LinearRegression()\n",
        "lrNewL.fit(X_train_new,y_train_new)\n",
        "lr_train_scoreNewL=lrNewL.score(X_train_new,y_train_new)\n",
        "lr_test_scoreNewL=lrNewL.score(X_test_new,y_test_new)\n",
        "print( \"\\n New LR training score:\", lr_train_scoreNewL )\n",
        "print( \"New LR test score: \", lr_test_scoreNewL)\n",
        "\n",
        "y_pred_LR2New = lassoNew.predict(X_test_new) \n",
        "mean_squared_error_LR2New = np.mean((y_pred_LR2New- y_test_new)**2)\n",
        "print(\"\\n New Mean Squared Error on test set Lasso\", mean_squared_error_LR2New) \n",
        "\n",
        "\n",
        "y_pred_LR1New = lasso00001New.predict(X_test_new) \n",
        "mean_squared_error_LR1New = np.mean((y_pred_LR1New- y_test_new)**2) \n",
        "print(\"\\n New Mean Squared Error on test set Lasso00001\", mean_squared_error_LR1New) \n",
        "\n",
        "\n",
        "y_pred_LRNew = lasso001New.predict(X_test_new) \n",
        "mean_squared_error_LRNew = np.mean((y_pred_LRNew- y_test_new)**2) \n",
        "print(\"\\n New Mean Squared Error on test set Lasso001\", mean_squared_error_LRNew) \n",
        "\n",
        "plt.subplot(1,2,1)\n",
        "plt.plot(lassoNew.coef_,alpha=0.7,linestyle='none',marker='*',markersize=5,color='red',label=r'Lasso; $\\alpha = 1$',zorder=7) # alpha here is for transparency\n",
        "plt.plot(lasso001New.coef_,alpha=0.5,linestyle='none',marker='d',markersize=6,color='blue',label=r'Lasso; $\\alpha = 0.01$') # alpha here is for transparency\n",
        "\n",
        "plt.xlabel('Coefficient Index',fontsize=16)\n",
        "plt.ylabel('Coefficient Magnitude',fontsize=16)\n",
        "plt.legend(fontsize=13,loc=4)\n",
        "plt.subplot(1,2,2)\n",
        "plt.plot(lassoNew.coef_,alpha=0.7,linestyle='none',marker='*',markersize=5,color='red',label=r'Lasso; $\\alpha = 1$',zorder=7) # alpha here is for transparency\n",
        "plt.plot(lasso001New.coef_,alpha=0.5,linestyle='none',marker='d',markersize=6,color='blue',label=r'Lasso; $\\alpha = 0.01$') # alpha here is for transparency\n",
        "plt.plot(lasso00001New.coef_,alpha=0.8,linestyle='none',marker='v',markersize=6,color='black',label=r'Lasso; $\\alpha = 0.00001$') # alpha here is for transparency\n",
        "plt.plot(lrNewL.coef_,alpha=0.7,linestyle='none',marker='o',markersize=5,color='green',label='Linear Regression',zorder=2)\n",
        "plt.xlabel('Coefficient Index',fontsize=16)\n",
        "plt.ylabel('Coefficient Magnitude',fontsize=16)\n",
        "plt.legend(fontsize=13,loc=4)\n",
        "plt.tight_layout()\n",
        "plt.show()"
      ],
      "execution_count": null,
      "outputs": [
        {
          "output_type": "stream",
          "text": [
            "New training score: 0.27295118821189124\n",
            "New test score:  0.2438763233325224\n",
            "New number of features used:  9\n",
            "\n",
            " New training score for alpha=0.01: 0.2729559861125388\n",
            "New test score for alpha =0.01:  0.24394790586597692\n",
            "New number of features used: for alpha =0.01: 9\n",
            "\n",
            " New training score for alpha=0.0001: 0.2729559865933784\n",
            " New test score for alpha =0.0001:  0.24394858316010604\n",
            "New number of features used: for alpha =0.0001: 9\n",
            "\n",
            " New LR training score: 0.272955986593425\n",
            "New LR test score:  0.24394858989834678\n",
            "\n",
            " New Mean Squared Error on test set Lasso 1549397.1266125327\n",
            "\n",
            " New Mean Squared Error on test set Lasso00001 1549249.0566966152\n",
            "\n",
            " New Mean Squared Error on test set Lasso001 1549250.4445616005\n"
          ],
          "name": "stdout"
        },
        {
          "output_type": "display_data",
          "data": {
            "image/png": "[encoded data removed]",
            "text/plain": [
              "<Figure size 432x288 with 2 Axes>"
            ]
          },
          "metadata": {
            "tags": [],
            "needs_background": "light"
          }
        }
      ]
    },
    {
      "cell_type": "code",
      "metadata": {
        "colab": {
          "base_uri": "https://localhost:8080/"
        },
        "id": "Jot7AMHIDlcP",
        "outputId": "f591be11-a6fc-4470-896f-3ffcf70d959a"
      },
      "source": [
        "#Check accuracy\n",
        "#Decision Tree after Backwards\n",
        "#Create and Fit a Regressor Object\n",
        "from sklearn.tree import DecisionTreeRegressor\n",
        "regObj = DecisionTreeRegressor(criterion = 'mse')\n",
        "regObj.fit(X_train_new,y_train_new) \n",
        "\n",
        "#Create Prediction\n",
        "y_pred_dt_new = regObj.predict(X_test_new)\n",
        "MSE_dt_new = mean_squared_error(y_true=y_test_new, y_pred=y_pred_dt_new)\n",
        "print(\"This decision tree's MSE is: \", MSE_dt_new)\n",
        "from sklearn.metrics import r2_score\n",
        "model_acc_dt_new = r2_score(y_test_new,y_pred_dt_new)\n",
        "print(\"R2 Score is:\",model_acc_dt_new)"
      ],
      "execution_count": null,
      "outputs": [
        {
          "output_type": "stream",
          "text": [
            "This decision tree's MSE is:  2817339.52801258\n",
            "R2 Score is: -0.3748941996548667\n"
          ],
          "name": "stdout"
        }
      ]
    },
    {
      "cell_type": "code",
      "metadata": {
        "colab": {
          "base_uri": "https://localhost:8080/"
        },
        "id": "99KZIZ4cCn2X",
        "outputId": "e821a8a3-8949-48af-e048-4dffda7cb2fa"
      },
      "source": [
        "#Random Forest Regression after backwards elimination\n",
        "\n",
        "#Create and Fit a Regressor Object\n",
        "from sklearn.ensemble import RandomForestRegressor\n",
        "from sklearn.metrics import r2_score\n",
        "\n",
        "# Create Model\n",
        "estimators_new = find_n_estimators(X_train_new,X_test_new,y_train_new,y_test_new)\n",
        "regObj_new = RandomForestRegressor(n_estimators=estimators_new)\n",
        "regObj.fit(X_train_new,y_train_new)\n",
        "predictions_new = regObj.predict(X_test_new)\n",
        "model_acc_dt_new = r2_score(y_test_new,predictions_new)\n",
        "\n",
        "# Use the forest's predict method on the test data\n",
        "\n",
        "# Calculate the absolute errors\n",
        "errors_new = abs(predictions_new - y_test_new)\n",
        "# Print out the mean absolute error (mae)\n",
        "print('Mean Absolute Error:', round(np.mean(errors_new), 2), 'degrees.')\n",
        "\n",
        "#r2 score\n",
        "from sklearn.metrics import r2_score\n",
        "RF2 = r2_score(y_test_new, predictions_new)\n",
        "print(\"\\n The r2 is: \", RF2)\n",
        "\n",
        "# R² score tells us how well our model is fitted to the data by comparing it to the average line of the dependent variable. \n",
        "#If the score is closer to 1, then it indicates that our model performs well versus if the score is farther from 1, \n",
        "#then it indicates that our model does not perform so well.\n",
        "print(\"Model Score is:\",model_acc_dt_new)\n",
        "print(\"number of estimators is:\",estimators_new)"
      ],
      "execution_count": null,
      "outputs": [
        {
          "output_type": "stream",
          "text": [
            "Mean Absolute Error: 1152.33 degrees.\n",
            "\n",
            " The r2 is:  -0.38792868423605076\n",
            "Model Score is: -0.38792868423605076\n",
            "number of estimators is: 32\n"
          ],
          "name": "stdout"
        }
      ]
    },
    {
      "cell_type": "code",
      "metadata": {
        "colab": {
          "base_uri": "https://localhost:8080/"
        },
        "id": "fh-2e-FK7bQP",
        "outputId": "dda331f2-7c84-420b-d801-b0c82a485a55"
      },
      "source": [
        "# Run Kfold\n",
        "from sklearn.model_selection import KFold\n",
        "from sklearn.linear_model import LinearRegression\n",
        "from sklearn.feature_selection import RFE\n",
        "from sklearn.model_selection import GridSearchCV\n",
        "\n",
        "\n",
        "# step-1: create a cross-validation scheme\n",
        "folds = KFold(n_splits = 5, shuffle = True, random_state = 100)\n",
        "\n",
        "# step-2: specify range of hyperparameters to tune\n",
        "hyper_params = [{'n_features_to_select': list(range(1, 9))}]\n",
        "\n",
        "\n",
        "# step-3: perform grid search\n",
        "# 3.1 specify model\n",
        "lm = LinearRegression()\n",
        "lm.fit(X_train_new, y_train_new)\n",
        "rfe = RFE(lm)             \n",
        "\n",
        "# 3.2 call GridSearchCV()\n",
        "model_cv = GridSearchCV(estimator = rfe, \n",
        "                        param_grid = hyper_params, \n",
        "                        scoring= 'r2', \n",
        "                        cv = folds, \n",
        "                        verbose = 1,\n",
        "                        return_train_score=True)      \n",
        "\n",
        "# fit the model\n",
        "model_cv.fit(X_train_new, y_train_new)          \n",
        "\n",
        "cv_results = pd.DataFrame(model_cv.cv_results_)"
      ],
      "execution_count": null,
      "outputs": [
        {
          "output_type": "stream",
          "text": [
            "Fitting 5 folds for each of 8 candidates, totalling 40 fits\n"
          ],
          "name": "stdout"
        },
        {
          "output_type": "stream",
          "text": [
            "[Parallel(n_jobs=1)]: Using backend SequentialBackend with 1 concurrent workers.\n",
            "[Parallel(n_jobs=1)]: Done  40 out of  40 | elapsed:    0.4s finished\n"
          ],
          "name": "stderr"
        }
      ]
    },
    {
      "cell_type": "code",
      "metadata": {
        "colab": {
          "base_uri": "https://localhost:8080/",
          "height": 421
        },
        "id": "rYiZZhQg-7f3",
        "outputId": "2381af8f-e4b2-48be-dc70-f85f037adc02"
      },
      "source": [
        "# plotting cv results\n",
        "plt.figure(figsize=(16,6))\n",
        "\n",
        "plt.plot(cv_results[\"param_n_features_to_select\"], cv_results[\"mean_test_score\"])\n",
        "plt.plot(cv_results[\"param_n_features_to_select\"], cv_results[\"mean_train_score\"])\n",
        "plt.xlabel('number of features')\n",
        "plt.ylabel('r-squared')\n",
        "plt.title(\"Optimal Number of Features\")\n",
        "plt.legend(['test score', 'train score'], loc='upper left')"
      ],
      "execution_count": null,
      "outputs": [
        {
          "output_type": "execute_result",
          "data": {
            "text/plain": [
              "<matplotlib.legend.Legend at 0x7f1cfa236e80>"
            ]
          },
          "metadata": {
            "tags": []
          },
          "execution_count": 31
        },
        {
          "output_type": "display_data",
          "data": {
            "image/png": "[encoded data removed]",
            "text/plain": [
              "<Figure size 1152x432 with 1 Axes>"
            ]
          },
          "metadata": {
            "tags": [],
            "needs_background": "light"
          }
        }
      ]
    },
    {
      "cell_type": "code",
      "metadata": {
        "colab": {
          "base_uri": "https://localhost:8080/"
        },
        "id": "49XKDTJZUzok",
        "outputId": "953fa3e1-9b5f-48eb-b465-b037493582b6"
      },
      "source": [
        "# In reference to the graph, you can see that much of the variance is described by ispaid_true and subject_webdevelopment(22.8%)\n",
        "attributes_index=[0, 1, 5, 11]\n",
        "\n",
        "# Print out summary with all attributes\n",
        "X_sig = X[:,attributes_index]\n",
        "obj_OLS = sm.OLS(endog = y, exog = X_sig).fit()\n",
        "print(obj_OLS.summary())"
      ],
      "execution_count": null,
      "outputs": [
        {
          "output_type": "stream",
          "text": [
            "                            OLS Regression Results                            \n",
            "==============================================================================\n",
            "Dep. Variable:                      y   R-squared:                       0.247\n",
            "Model:                            OLS   Adj. R-squared:                  0.247\n",
            "Method:                 Least Squares   F-statistic:                     355.7\n",
            "Date:                Sat, 05 Dec 2020   Prob (F-statistic):          1.04e-199\n",
            "Time:                        16:12:34   Log-Likelihood:                -27766.\n",
            "No. Observations:                3251   AIC:                         5.554e+04\n",
            "Df Residuals:                    3247   BIC:                         5.556e+04\n",
            "Df Model:                           3                                         \n",
            "Covariance Type:            nonrobust                                         \n",
            "==============================================================================\n",
            "                 coef    std err          t      P>|t|      [0.025      0.975]\n",
            "------------------------------------------------------------------------------\n",
            "const       2586.7313     91.275     28.340      0.000    2407.769    2765.693\n",
            "x1             3.5269      0.391      9.029      0.000       2.761       4.293\n",
            "x2         -2067.7151     96.836    -21.353      0.000   -2257.581   -1877.849\n",
            "x3          1153.5733     49.326     23.387      0.000    1056.860    1250.286\n",
            "==============================================================================\n",
            "Omnibus:                      937.784   Durbin-Watson:                   1.232\n",
            "Prob(Omnibus):                  0.000   Jarque-Bera (JB):             2402.497\n",
            "Skew:                           1.562   Prob(JB):                         0.00\n",
            "Kurtosis:                       5.825   Cond. No.                         521.\n",
            "==============================================================================\n",
            "\n",
            "Warnings:\n",
            "[1] Standard Errors assume that the covariance matrix of the errors is correctly specified.\n"
          ],
          "name": "stdout"
        }
      ]
    },
    {
      "cell_type": "code",
      "metadata": {
        "id": "LFeAIk_JjiyV",
        "colab": {
          "base_uri": "https://localhost:8080/"
        },
        "outputId": "f65325f2-54b2-4722-cfa1-281b20843c69"
      },
      "source": [
        "#Applying PCA\n",
        "from sklearn.decomposition import PCA\n",
        "n = 1\n",
        "df_pca = pd.DataFrame(columns=['n_components','r2','MSE'])\n",
        "columns = list(df_pca)\n",
        "data_pca = []\n",
        "while n < 18: \n",
        "    pcaObj = PCA(n_components=n)\n",
        "    X_train_pca_lr = pcaObj.fit_transform(X_train)\n",
        "    X_test_pca_lr = pcaObj.transform(X_test)\n",
        "    components_variance = pcaObj.explained_variance_ratio_\n",
        "    from sklearn.linear_model import LinearRegression\n",
        "    lrObj_pca = LinearRegression()\n",
        "    lrObj_pca.fit(X_train_pca_lr, y_train)\n",
        "    predictions_pca_lr = lrObj_pca.predict(X_test_pca_lr)\n",
        "    r2 = r2_score(y_test,predictions_pca_lr)\n",
        "    from sklearn.metrics import mean_squared_error\n",
        "    MSEPCA = (mean_squared_error(y_test, predictions_pca_lr))\n",
        "    values = [n,r2, MSEPCA]\n",
        "    zipped = zip(columns, values)\n",
        "    a_dictionary = dict(zipped)\n",
        "    data_pca.append(a_dictionary)\n",
        "    n = n + 1\n",
        "df_pca = df_pca.append(data_pca, True)\n",
        "pd.options.display.float_format = '{:.5f}'.format\n",
        "print(df_pca)"
      ],
      "execution_count": null,
      "outputs": [
        {
          "output_type": "stream",
          "text": [
            "   n_components      r2           MSE\n",
            "0             1 0.02743 1992934.32132\n",
            "1             2 0.03005 1987546.23724\n",
            "2             3 0.05887 1928494.21944\n",
            "3             4 0.05616 1934062.29797\n",
            "4             5 0.05607 1934238.39594\n",
            "5             6 0.06697 1911891.44776\n",
            "6             7 0.18046 1679353.33008\n",
            "7             8 0.18436 1671347.21851\n",
            "8             9 0.18501 1670021.65034\n",
            "9            10 0.19584 1647820.51756\n",
            "10           11 0.21172 1615286.45406\n",
            "11           12 0.22744 1583070.39938\n",
            "12           13 0.23704 1563404.04457\n",
            "13           14 0.24527 1546535.31193\n",
            "14           15 0.24535 1546372.17349\n",
            "15           16 0.24547 1546136.65137\n",
            "16           17 0.24508 1546940.69789\n"
          ],
          "name": "stdout"
        }
      ]
    },
    {
      "cell_type": "code",
      "metadata": {
        "colab": {
          "base_uri": "https://localhost:8080/",
          "height": 423
        },
        "id": "pvRFid7mk7wD",
        "outputId": "f1d49ece-381d-4596-c2bb-f6ece9cf8621"
      },
      "source": [
        "# plotting pca accuracy\n",
        "plt.figure(figsize=(16,6))\n",
        "\n",
        "plt.plot(df_pca[\"n_components\"], df_pca[\"r2\"])\n",
        "plt.xlabel('number of n_components')\n",
        "plt.ylabel('r2')\n",
        "plt.title(\"Optimal Number of PCA n_components, r\")"
      ],
      "execution_count": null,
      "outputs": [
        {
          "output_type": "execute_result",
          "data": {
            "text/plain": [
              "Text(0.5, 1.0, 'Optimal Number of PCA n_components, r')"
            ]
          },
          "metadata": {
            "tags": []
          },
          "execution_count": 34
        },
        {
          "output_type": "display_data",
          "data": {
            "image/png": "[encoded data removed]",
            "text/plain": [
              "<Figure size 1152x432 with 1 Axes>"
            ]
          },
          "metadata": {
            "tags": [],
            "needs_background": "light"
          }
        }
      ]
    },
    {
      "cell_type": "code",
      "metadata": {
        "colab": {
          "base_uri": "https://localhost:8080/",
          "height": 423
        },
        "id": "X9Yl0562DTNj",
        "outputId": "22e476db-3c17-4da4-b2b9-8971fad71e66"
      },
      "source": [
        "# plotting pca accuracy\n",
        "plt.figure(figsize=(16,6))\n",
        "\n",
        "plt.plot(df_pca[\"n_components\"], df_pca[\"MSE\"])\n",
        "plt.xlabel('number of n_components')\n",
        "plt.ylabel('MSE')\n",
        "plt.title(\"Optimal Number of PCA n_components, MSE\")"
      ],
      "execution_count": null,
      "outputs": [
        {
          "output_type": "execute_result",
          "data": {
            "text/plain": [
              "Text(0.5, 1.0, 'Optimal Number of PCA n_components, MSE')"
            ]
          },
          "metadata": {
            "tags": []
          },
          "execution_count": 35
        },
        {
          "output_type": "display_data",
          "data": {
            "image/png": "[encoded data removed]",
            "text/plain": [
              "<Figure size 1152x432 with 1 Axes>"
            ]
          },
          "metadata": {
            "tags": [],
            "needs_background": "light"
          }
        }
      ]
    },
    {
      "cell_type": "code",
      "metadata": {
        "colab": {
          "base_uri": "https://localhost:8080/"
        },
        "id": "B92-4kA5rt5k",
        "outputId": "e4001186-e9ae-455c-a5e6-012e766f2065"
      },
      "source": [
        "#kernel PCA\n",
        "from sklearn.decomposition import KernelPCA\n",
        "kernelPCAObj = KernelPCA(n_components=10, kernel='rbf')  \n",
        "X_trainKPCA = kernelPCAObj.fit_transform(X_train)\n",
        "X_testKPCA = kernelPCAObj.transform(X_test)\n",
        "\n",
        "#Fitting  Regression to Training Set\n",
        "from sklearn.linear_model import LinearRegression\n",
        "LinObjKPCA = LinearRegression() \n",
        "LinObjKPCA.fit(X_trainKPCA, y_train)\n",
        "\n",
        "\n",
        "\n",
        "#Making predictions on the Test Set\n",
        "y_predKPCA = LinObjKPCA.predict(X_testKPCA)\n",
        "\n",
        "\n",
        "from sklearn.metrics import mean_squared_error\n",
        "MSEKPCA=(mean_squared_error(y_test, y_predKPCA))\n",
        "print('The Mean Squared Error after Kernel PCA is: ', MSEKPCA)\n",
        "\n",
        " "
      ],
      "execution_count": null,
      "outputs": [
        {
          "output_type": "stream",
          "text": [
            "The Mean Squared Error after Kernel PCA is:  1638054.147379438\n"
          ],
          "name": "stdout"
        }
      ]
    },
    {
      "cell_type": "code",
      "metadata": {
        "id": "jH0_XKz13SEL"
      },
      "source": [
        ""
      ],
      "execution_count": null,
      "outputs": []
    }
  ]
}